{
  "nbformat": 4,
  "nbformat_minor": 0,
  "metadata": {
    "colab": {
      "provenance": [],
      "include_colab_link": true
    },
    "kernelspec": {
      "name": "python3",
      "display_name": "Python 3"
    },
    "language_info": {
      "name": "python"
    }
  },
  "cells": [
    {
      "cell_type": "markdown",
      "metadata": {
        "id": "view-in-github",
        "colab_type": "text"
      },
      "source": [
        "<a href=\"https://colab.research.google.com/github/moaoa/deep-learning/blob/main/main.ipynb\" target=\"_parent\"><img src=\"https://colab.research.google.com/assets/colab-badge.svg\" alt=\"Open In Colab\"/></a>"
      ]
    },
    {
      "cell_type": "code",
      "execution_count": 137,
      "metadata": {
        "colab": {
          "base_uri": "https://localhost:8080/"
        },
        "id": "jMIA8incGkMe",
        "outputId": "24aa8ebb-816a-46e1-b3d7-9e548369e509"
      },
      "outputs": [
        {
          "output_type": "stream",
          "name": "stdout",
          "text": [
            "Requirement already satisfied: pandas in /usr/local/lib/python3.10/dist-packages (2.0.3)\n",
            "Requirement already satisfied: python-dateutil>=2.8.2 in /usr/local/lib/python3.10/dist-packages (from pandas) (2.8.2)\n",
            "Requirement already satisfied: pytz>=2020.1 in /usr/local/lib/python3.10/dist-packages (from pandas) (2023.4)\n",
            "Requirement already satisfied: tzdata>=2022.1 in /usr/local/lib/python3.10/dist-packages (from pandas) (2024.1)\n",
            "Requirement already satisfied: numpy>=1.21.0 in /usr/local/lib/python3.10/dist-packages (from pandas) (1.25.2)\n",
            "Requirement already satisfied: six>=1.5 in /usr/local/lib/python3.10/dist-packages (from python-dateutil>=2.8.2->pandas) (1.16.0)\n",
            "Requirement already satisfied: tensorflow in /usr/local/lib/python3.10/dist-packages (2.15.0)\n",
            "Requirement already satisfied: absl-py>=1.0.0 in /usr/local/lib/python3.10/dist-packages (from tensorflow) (1.4.0)\n",
            "Requirement already satisfied: astunparse>=1.6.0 in /usr/local/lib/python3.10/dist-packages (from tensorflow) (1.6.3)\n",
            "Requirement already satisfied: flatbuffers>=23.5.26 in /usr/local/lib/python3.10/dist-packages (from tensorflow) (24.3.25)\n",
            "Requirement already satisfied: gast!=0.5.0,!=0.5.1,!=0.5.2,>=0.2.1 in /usr/local/lib/python3.10/dist-packages (from tensorflow) (0.5.4)\n",
            "Requirement already satisfied: google-pasta>=0.1.1 in /usr/local/lib/python3.10/dist-packages (from tensorflow) (0.2.0)\n",
            "Requirement already satisfied: h5py>=2.9.0 in /usr/local/lib/python3.10/dist-packages (from tensorflow) (3.9.0)\n",
            "Requirement already satisfied: libclang>=13.0.0 in /usr/local/lib/python3.10/dist-packages (from tensorflow) (18.1.1)\n",
            "Requirement already satisfied: ml-dtypes~=0.2.0 in /usr/local/lib/python3.10/dist-packages (from tensorflow) (0.2.0)\n",
            "Requirement already satisfied: numpy<2.0.0,>=1.23.5 in /usr/local/lib/python3.10/dist-packages (from tensorflow) (1.25.2)\n",
            "Requirement already satisfied: opt-einsum>=2.3.2 in /usr/local/lib/python3.10/dist-packages (from tensorflow) (3.3.0)\n",
            "Requirement already satisfied: packaging in /usr/local/lib/python3.10/dist-packages (from tensorflow) (24.0)\n",
            "Requirement already satisfied: protobuf!=4.21.0,!=4.21.1,!=4.21.2,!=4.21.3,!=4.21.4,!=4.21.5,<5.0.0dev,>=3.20.3 in /usr/local/lib/python3.10/dist-packages (from tensorflow) (3.20.3)\n",
            "Requirement already satisfied: setuptools in /usr/local/lib/python3.10/dist-packages (from tensorflow) (67.7.2)\n",
            "Requirement already satisfied: six>=1.12.0 in /usr/local/lib/python3.10/dist-packages (from tensorflow) (1.16.0)\n",
            "Requirement already satisfied: termcolor>=1.1.0 in /usr/local/lib/python3.10/dist-packages (from tensorflow) (2.4.0)\n",
            "Requirement already satisfied: typing-extensions>=3.6.6 in /usr/local/lib/python3.10/dist-packages (from tensorflow) (4.12.1)\n",
            "Requirement already satisfied: wrapt<1.15,>=1.11.0 in /usr/local/lib/python3.10/dist-packages (from tensorflow) (1.14.1)\n",
            "Requirement already satisfied: tensorflow-io-gcs-filesystem>=0.23.1 in /usr/local/lib/python3.10/dist-packages (from tensorflow) (0.37.0)\n",
            "Requirement already satisfied: grpcio<2.0,>=1.24.3 in /usr/local/lib/python3.10/dist-packages (from tensorflow) (1.64.1)\n",
            "Requirement already satisfied: tensorboard<2.16,>=2.15 in /usr/local/lib/python3.10/dist-packages (from tensorflow) (2.15.2)\n",
            "Requirement already satisfied: tensorflow-estimator<2.16,>=2.15.0 in /usr/local/lib/python3.10/dist-packages (from tensorflow) (2.15.0)\n",
            "Requirement already satisfied: keras<2.16,>=2.15.0 in /usr/local/lib/python3.10/dist-packages (from tensorflow) (2.15.0)\n",
            "Requirement already satisfied: wheel<1.0,>=0.23.0 in /usr/local/lib/python3.10/dist-packages (from astunparse>=1.6.0->tensorflow) (0.43.0)\n",
            "Requirement already satisfied: google-auth<3,>=1.6.3 in /usr/local/lib/python3.10/dist-packages (from tensorboard<2.16,>=2.15->tensorflow) (2.27.0)\n",
            "Requirement already satisfied: google-auth-oauthlib<2,>=0.5 in /usr/local/lib/python3.10/dist-packages (from tensorboard<2.16,>=2.15->tensorflow) (1.2.0)\n",
            "Requirement already satisfied: markdown>=2.6.8 in /usr/local/lib/python3.10/dist-packages (from tensorboard<2.16,>=2.15->tensorflow) (3.6)\n",
            "Requirement already satisfied: requests<3,>=2.21.0 in /usr/local/lib/python3.10/dist-packages (from tensorboard<2.16,>=2.15->tensorflow) (2.31.0)\n",
            "Requirement already satisfied: tensorboard-data-server<0.8.0,>=0.7.0 in /usr/local/lib/python3.10/dist-packages (from tensorboard<2.16,>=2.15->tensorflow) (0.7.2)\n",
            "Requirement already satisfied: werkzeug>=1.0.1 in /usr/local/lib/python3.10/dist-packages (from tensorboard<2.16,>=2.15->tensorflow) (3.0.3)\n",
            "Requirement already satisfied: cachetools<6.0,>=2.0.0 in /usr/local/lib/python3.10/dist-packages (from google-auth<3,>=1.6.3->tensorboard<2.16,>=2.15->tensorflow) (5.3.3)\n",
            "Requirement already satisfied: pyasn1-modules>=0.2.1 in /usr/local/lib/python3.10/dist-packages (from google-auth<3,>=1.6.3->tensorboard<2.16,>=2.15->tensorflow) (0.4.0)\n",
            "Requirement already satisfied: rsa<5,>=3.1.4 in /usr/local/lib/python3.10/dist-packages (from google-auth<3,>=1.6.3->tensorboard<2.16,>=2.15->tensorflow) (4.9)\n",
            "Requirement already satisfied: requests-oauthlib>=0.7.0 in /usr/local/lib/python3.10/dist-packages (from google-auth-oauthlib<2,>=0.5->tensorboard<2.16,>=2.15->tensorflow) (1.3.1)\n",
            "Requirement already satisfied: charset-normalizer<4,>=2 in /usr/local/lib/python3.10/dist-packages (from requests<3,>=2.21.0->tensorboard<2.16,>=2.15->tensorflow) (3.3.2)\n",
            "Requirement already satisfied: idna<4,>=2.5 in /usr/local/lib/python3.10/dist-packages (from requests<3,>=2.21.0->tensorboard<2.16,>=2.15->tensorflow) (3.7)\n",
            "Requirement already satisfied: urllib3<3,>=1.21.1 in /usr/local/lib/python3.10/dist-packages (from requests<3,>=2.21.0->tensorboard<2.16,>=2.15->tensorflow) (2.0.7)\n",
            "Requirement already satisfied: certifi>=2017.4.17 in /usr/local/lib/python3.10/dist-packages (from requests<3,>=2.21.0->tensorboard<2.16,>=2.15->tensorflow) (2024.6.2)\n",
            "Requirement already satisfied: MarkupSafe>=2.1.1 in /usr/local/lib/python3.10/dist-packages (from werkzeug>=1.0.1->tensorboard<2.16,>=2.15->tensorflow) (2.1.5)\n",
            "Requirement already satisfied: pyasn1<0.7.0,>=0.4.6 in /usr/local/lib/python3.10/dist-packages (from pyasn1-modules>=0.2.1->google-auth<3,>=1.6.3->tensorboard<2.16,>=2.15->tensorflow) (0.6.0)\n",
            "Requirement already satisfied: oauthlib>=3.0.0 in /usr/local/lib/python3.10/dist-packages (from requests-oauthlib>=0.7.0->google-auth-oauthlib<2,>=0.5->tensorboard<2.16,>=2.15->tensorflow) (3.2.2)\n",
            "Requirement already satisfied: seaborn in /usr/local/lib/python3.10/dist-packages (0.13.1)\n",
            "Requirement already satisfied: numpy!=1.24.0,>=1.20 in /usr/local/lib/python3.10/dist-packages (from seaborn) (1.25.2)\n",
            "Requirement already satisfied: pandas>=1.2 in /usr/local/lib/python3.10/dist-packages (from seaborn) (2.0.3)\n",
            "Requirement already satisfied: matplotlib!=3.6.1,>=3.4 in /usr/local/lib/python3.10/dist-packages (from seaborn) (3.7.1)\n",
            "Requirement already satisfied: contourpy>=1.0.1 in /usr/local/lib/python3.10/dist-packages (from matplotlib!=3.6.1,>=3.4->seaborn) (1.2.1)\n",
            "Requirement already satisfied: cycler>=0.10 in /usr/local/lib/python3.10/dist-packages (from matplotlib!=3.6.1,>=3.4->seaborn) (0.12.1)\n",
            "Requirement already satisfied: fonttools>=4.22.0 in /usr/local/lib/python3.10/dist-packages (from matplotlib!=3.6.1,>=3.4->seaborn) (4.53.0)\n",
            "Requirement already satisfied: kiwisolver>=1.0.1 in /usr/local/lib/python3.10/dist-packages (from matplotlib!=3.6.1,>=3.4->seaborn) (1.4.5)\n",
            "Requirement already satisfied: packaging>=20.0 in /usr/local/lib/python3.10/dist-packages (from matplotlib!=3.6.1,>=3.4->seaborn) (24.0)\n",
            "Requirement already satisfied: pillow>=6.2.0 in /usr/local/lib/python3.10/dist-packages (from matplotlib!=3.6.1,>=3.4->seaborn) (9.4.0)\n",
            "Requirement already satisfied: pyparsing>=2.3.1 in /usr/local/lib/python3.10/dist-packages (from matplotlib!=3.6.1,>=3.4->seaborn) (3.1.2)\n",
            "Requirement already satisfied: python-dateutil>=2.7 in /usr/local/lib/python3.10/dist-packages (from matplotlib!=3.6.1,>=3.4->seaborn) (2.8.2)\n",
            "Requirement already satisfied: pytz>=2020.1 in /usr/local/lib/python3.10/dist-packages (from pandas>=1.2->seaborn) (2023.4)\n",
            "Requirement already satisfied: tzdata>=2022.1 in /usr/local/lib/python3.10/dist-packages (from pandas>=1.2->seaborn) (2024.1)\n",
            "Requirement already satisfied: six>=1.5 in /usr/local/lib/python3.10/dist-packages (from python-dateutil>=2.7->matplotlib!=3.6.1,>=3.4->seaborn) (1.16.0)\n"
          ]
        }
      ],
      "source": [
        "# prompt: install pandas and tensorflow and seaborn and import them\n",
        "\n",
        "!pip install pandas\n",
        "!pip install tensorflow\n",
        "!pip install seaborn\n",
        "\n",
        "import pandas as pd\n",
        "import tensorflow as tf\n",
        "import seaborn as sns\n",
        "from tensorflow.keras.layers import Normalization, Dense, InputLayer\n",
        "from tensorflow.keras.losses import MeanSquaredError, Huber, MeanAbsoluteError\n",
        "from tensorflow.keras.optimizers import Adam\n",
        "from tensorflow.keras.metrics import RootMeanSquaredError\n",
        "import matplotlib.pyplot as plt\n",
        "\n",
        "\n",
        "\n"
      ]
    },
    {
      "cell_type": "code",
      "source": [
        "\n",
        "# Read the data from the CSV file\n",
        "df = pd.read_csv(\"train.csv\")\n",
        "\n",
        "# Display the data\n",
        "print(df.head())\n"
      ],
      "metadata": {
        "colab": {
          "base_uri": "https://localhost:8080/"
        },
        "id": "NHiivBUZPE1r",
        "outputId": "46887359-4658-457c-d5e6-00b6f1396d5d"
      },
      "execution_count": 138,
      "outputs": [
        {
          "output_type": "stream",
          "name": "stdout",
          "text": [
            "   v.id  on road old  on road now  years      km  rating  condition  economy  \\\n",
            "0     1       535651       798186      3   78945       1          2       14   \n",
            "1     2       591911       861056      6  117220       5          9        9   \n",
            "2     3       686990       770762      2  132538       2          8       15   \n",
            "3     4       573999       722381      4  101065       4          3       11   \n",
            "4     5       691388       811335      6   61559       3          9       12   \n",
            "\n",
            "   top speed  hp  torque  current price  \n",
            "0        177  73     123       351318.0  \n",
            "1        148  74      95       285001.5  \n",
            "2        181  53      97       215386.0  \n",
            "3        197  54     116       244295.5  \n",
            "4        160  53     105       531114.5  \n"
          ]
        }
      ]
    },
    {
      "cell_type": "code",
      "source": [
        "# prompt: using the seaborn lib use the methdo show pair to show the data\n",
        "\n",
        "# sns.pairplot(df, diag_kind='kde')\n"
      ],
      "metadata": {
        "id": "trMZLoUsPVqK"
      },
      "execution_count": 139,
      "outputs": []
    },
    {
      "cell_type": "code",
      "source": [
        "tensor_df = tf.convert_to_tensor(df, tf.float32)\n",
        "\n",
        "print(tensor_df)"
      ],
      "metadata": {
        "colab": {
          "base_uri": "https://localhost:8080/"
        },
        "id": "OjUoTtmHVZno",
        "outputId": "807359f5-8938-487e-affa-e801fef447f7"
      },
      "execution_count": 140,
      "outputs": [
        {
          "output_type": "stream",
          "name": "stdout",
          "text": [
            "tf.Tensor(\n",
            "[[1.000000e+00 5.356510e+05 7.981860e+05 ... 7.300000e+01 1.230000e+02\n",
            "  3.513180e+05]\n",
            " [2.000000e+00 5.919110e+05 8.610560e+05 ... 7.400000e+01 9.500000e+01\n",
            "  2.850015e+05]\n",
            " [3.000000e+00 6.869900e+05 7.707620e+05 ... 5.300000e+01 9.700000e+01\n",
            "  2.153860e+05]\n",
            " ...\n",
            " [9.980000e+02 6.463440e+05 8.427330e+05 ... 1.130000e+02 8.900000e+01\n",
            "  4.058710e+05]\n",
            " [9.990000e+02 5.355590e+05 7.324390e+05 ... 1.120000e+02 1.280000e+02\n",
            "  7.439800e+04]\n",
            " [1.000000e+03 5.901050e+05 7.797430e+05 ... 9.900000e+01 9.600000e+01\n",
            "  4.149385e+05]], shape=(1000, 12), dtype=float32)\n"
          ]
        }
      ]
    },
    {
      "cell_type": "code",
      "source": [
        "x = tensor_df[:, 3:-1]\n",
        "\n",
        "print(x[:8])"
      ],
      "metadata": {
        "colab": {
          "base_uri": "https://localhost:8080/"
        },
        "id": "mxiOcC0EdlEG",
        "outputId": "5c6279fd-7c86-481f-fc75-4b340d041e58"
      },
      "execution_count": 141,
      "outputs": [
        {
          "output_type": "stream",
          "name": "stdout",
          "text": [
            "tf.Tensor(\n",
            "[[3.00000e+00 7.89450e+04 1.00000e+00 2.00000e+00 1.40000e+01 1.77000e+02\n",
            "  7.30000e+01 1.23000e+02]\n",
            " [6.00000e+00 1.17220e+05 5.00000e+00 9.00000e+00 9.00000e+00 1.48000e+02\n",
            "  7.40000e+01 9.50000e+01]\n",
            " [2.00000e+00 1.32538e+05 2.00000e+00 8.00000e+00 1.50000e+01 1.81000e+02\n",
            "  5.30000e+01 9.70000e+01]\n",
            " [4.00000e+00 1.01065e+05 4.00000e+00 3.00000e+00 1.10000e+01 1.97000e+02\n",
            "  5.40000e+01 1.16000e+02]\n",
            " [6.00000e+00 6.15590e+04 3.00000e+00 9.00000e+00 1.20000e+01 1.60000e+02\n",
            "  5.30000e+01 1.05000e+02]\n",
            " [6.00000e+00 1.48846e+05 2.00000e+00 9.00000e+00 1.30000e+01 1.38000e+02\n",
            "  6.10000e+01 1.09000e+02]\n",
            " [5.00000e+00 7.80250e+04 1.00000e+00 9.00000e+00 1.50000e+01 1.71000e+02\n",
            "  9.40000e+01 1.32000e+02]\n",
            " [6.00000e+00 7.65460e+04 1.00000e+00 2.00000e+00 1.20000e+01 1.46000e+02\n",
            "  1.09000e+02 9.60000e+01]], shape=(8, 8), dtype=float32)\n"
          ]
        }
      ]
    },
    {
      "cell_type": "code",
      "source": [
        "y = tf.expand_dims(tensor_df[:, -1], axis=-1)\n",
        "\n",
        "print(y[:8])"
      ],
      "metadata": {
        "colab": {
          "base_uri": "https://localhost:8080/"
        },
        "id": "eemLrK8QeQrT",
        "outputId": "559ff165-8fc8-43ab-9de9-6acf6de1797a"
      },
      "execution_count": 142,
      "outputs": [
        {
          "output_type": "stream",
          "name": "stdout",
          "text": [
            "tf.Tensor(\n",
            "[[351318. ]\n",
            " [285001.5]\n",
            " [215386. ]\n",
            " [244295.5]\n",
            " [531114.5]\n",
            " [177933.5]\n",
            " [410877. ]\n",
            " [467471.5]], shape=(8, 1), dtype=float32)\n"
          ]
        }
      ]
    },
    {
      "cell_type": "code",
      "source": [
        "normalizer = Normalization(axis=-1)\n",
        "\n",
        "# x_normalized = tf.constant([\n",
        "#         [3, 2, 5, 6, 7, 2, 5, 1],\n",
        "#         [3, 4, 5, 6, 4, 2, 5, 1],\n",
        "#         [4, 7, 6, 2, 8, 2, 5, 1]\n",
        "#       ])\n",
        "\n",
        "normalizer.adapt(x)\n",
        "\n",
        "print(normalizer(x))"
      ],
      "metadata": {
        "colab": {
          "base_uri": "https://localhost:8080/"
        },
        "id": "vGc2PX6d8WCm",
        "outputId": "447c5cf7-3b24-4410-a68e-62b723a7b38e"
      },
      "execution_count": 143,
      "outputs": [
        {
          "output_type": "stream",
          "name": "stdout",
          "text": [
            "tf.Tensor(\n",
            "[[-0.9084985  -0.7320671  -1.4178834  ...  0.524257   -0.56303626\n",
            "   0.93010384]\n",
            " [ 0.8374949   0.5816051   1.4350008  ... -0.9799913  -0.5142717\n",
            "  -0.40017724]\n",
            " [-1.4904963   1.1073486  -0.7046623  ...  0.7317395  -1.5383282\n",
            "  -0.30515718]\n",
            " ...\n",
            " [ 1.4194927  -0.4651454  -1.4178834  ...  1.509799    1.3875475\n",
            "  -0.68523747]\n",
            " [-1.4904963   1.3798648   0.72177976 ...  0.8873514   1.3387829\n",
            "   1.167654  ]\n",
            " [ 0.25549713 -1.1319177   0.72177976 ...  1.6654109   0.70484316\n",
            "  -0.3526672 ]], shape=(1000, 8), dtype=float32)\n"
          ]
        }
      ]
    },
    {
      "cell_type": "code",
      "source": [
        "model = tf.keras.Sequential([\n",
        "    InputLayer(input_shape=(8, )),\n",
        "    normalizer,\n",
        "    Dense(1)\n",
        "])\n",
        "\n",
        "model.summary()"
      ],
      "metadata": {
        "id": "xfqm7TGT9bzr",
        "outputId": "99045f3f-7e3f-46d9-9083-b70c2b133523",
        "colab": {
          "base_uri": "https://localhost:8080/"
        }
      },
      "execution_count": 144,
      "outputs": [
        {
          "output_type": "stream",
          "name": "stdout",
          "text": [
            "Model: \"sequential_9\"\n",
            "_________________________________________________________________\n",
            " Layer (type)                Output Shape              Param #   \n",
            "=================================================================\n",
            " normalization_8 (Normaliza  (None, 8)                 17        \n",
            " tion)                                                           \n",
            "                                                                 \n",
            " dense_9 (Dense)             (None, 1)                 9         \n",
            "                                                                 \n",
            "=================================================================\n",
            "Total params: 26 (108.00 Byte)\n",
            "Trainable params: 9 (36.00 Byte)\n",
            "Non-trainable params: 17 (72.00 Byte)\n",
            "_________________________________________________________________\n"
          ]
        }
      ]
    },
    {
      "cell_type": "code",
      "source": [
        "TRAIN_RATIO = 0.8\n",
        "VAL_RATIO = 0.1\n",
        "TEST_RATIO = 0.1\n",
        "DATASET_SIZE = len(x)\n",
        "\n",
        "print(DATASET_SIZE)\n",
        "X_train = x[:int(DATASET_SIZE * TRAIN_RATIO)]\n",
        "Y_train = y[:int(DATASET_SIZE * TRAIN_RATIO)]\n",
        "\n",
        "\n",
        "print(X_train.shape)\n",
        "print(Y_train.shape)\n",
        "\n",
        "X_val = x[int(DATASET_SIZE * TRAIN_RATIO):int(DATASET_SIZE * (TRAIN_RATIO + VAL_RATIO))]\n",
        "Y_val = y[int(DATASET_SIZE * TRAIN_RATIO):int(DATASET_SIZE * (TRAIN_RATIO + VAL_RATIO))]\n",
        "\n",
        "\n",
        "print(X_val.shape)\n",
        "print(Y_val.shape)\n",
        "\n",
        "X_test = x[int(DATASET_SIZE * (TRAIN_RATIO + VAL_RATIO)):]\n",
        "Y_test = y[int(DATASET_SIZE * (TRAIN_RATIO + VAL_RATIO)):]\n",
        "\n",
        "\n",
        "print(X_test.shape)\n",
        "print(Y_test.shape)"
      ],
      "metadata": {
        "id": "1dJmqS3c_EK3",
        "outputId": "aeedb1d1-e010-49e9-dfe7-7b000b36f4f2",
        "colab": {
          "base_uri": "https://localhost:8080/"
        }
      },
      "execution_count": 145,
      "outputs": [
        {
          "output_type": "stream",
          "name": "stdout",
          "text": [
            "1000\n",
            "(800, 8)\n",
            "(800, 1)\n",
            "(100, 8)\n",
            "(100, 1)\n",
            "(100, 8)\n",
            "(100, 1)\n"
          ]
        }
      ]
    },
    {
      "cell_type": "code",
      "source": [
        "tf.keras.utils.plot_model(model, to_file=\"model.png\", show_shapes=True)"
      ],
      "metadata": {
        "id": "lsSUGl41DpPj",
        "outputId": "94b9d287-c3d1-4890-abbf-39a93e0719db",
        "colab": {
          "base_uri": "https://localhost:8080/",
          "height": 312
        }
      },
      "execution_count": 146,
      "outputs": [
        {
          "output_type": "execute_result",
          "data": {
            "image/png": "[encoded data removed]",
            "text/plain": [
              "<IPython.core.display.Image object>"
            ]
          },
          "metadata": {},
          "execution_count": 146
        }
      ]
    },
    {
      "cell_type": "code",
      "source": [
        "model.compile(optimizer=Adam(), loss = MeanAbsoluteError(), metrics=[RootMeanSquaredError()])\n",
        "\n",
        "model.fit(X_train, Y_train, validation_data=(X_val, Y_val), epochs=100)"
      ],
      "metadata": {
        "id": "_X30gqwRD0in",
        "colab": {
          "base_uri": "https://localhost:8080/"
        },
        "outputId": "d17d1c4e-34da-45e8-954d-e6ae2cf0324e"
      },
      "execution_count": 147,
      "outputs": [
        {
          "output_type": "stream",
          "name": "stdout",
          "text": [
            "Epoch 1/100\n",
            "25/25 [==============================] - 1s 12ms/step - loss: 313282.1250 - root_mean_squared_error: 337791.5938 - val_loss: 273467.2188 - val_root_mean_squared_error: 300015.0938\n",
            "Epoch 2/100\n",
            "25/25 [==============================] - 0s 4ms/step - loss: 313282.1250 - root_mean_squared_error: 337791.5625 - val_loss: 273467.1875 - val_root_mean_squared_error: 300015.0625\n",
            "Epoch 3/100\n",
            "25/25 [==============================] - 0s 4ms/step - loss: 313282.1250 - root_mean_squared_error: 337791.5625 - val_loss: 273467.1562 - val_root_mean_squared_error: 300015.0312\n",
            "Epoch 4/100\n",
            "25/25 [==============================] - 0s 4ms/step - loss: 313282.0625 - root_mean_squared_error: 337791.5000 - val_loss: 273467.1250 - val_root_mean_squared_error: 300015.0312\n",
            "Epoch 5/100\n",
            "25/25 [==============================] - 0s 3ms/step - loss: 313282.0312 - root_mean_squared_error: 337791.5000 - val_loss: 273467.1250 - val_root_mean_squared_error: 300015.0312\n",
            "Epoch 6/100\n",
            "25/25 [==============================] - 0s 3ms/step - loss: 313282.0938 - root_mean_squared_error: 337791.4688 - val_loss: 273467.0938 - val_root_mean_squared_error: 300015.0000\n",
            "Epoch 7/100\n",
            "25/25 [==============================] - 0s 4ms/step - loss: 313282.0000 - root_mean_squared_error: 337791.4688 - val_loss: 273467.0625 - val_root_mean_squared_error: 300014.9688\n",
            "Epoch 8/100\n",
            "25/25 [==============================] - 0s 4ms/step - loss: 313281.9375 - root_mean_squared_error: 337791.4375 - val_loss: 273467.0625 - val_root_mean_squared_error: 300014.9375\n",
            "Epoch 9/100\n",
            "25/25 [==============================] - 0s 4ms/step - loss: 313281.9688 - root_mean_squared_error: 337791.4062 - val_loss: 273467.0312 - val_root_mean_squared_error: 300014.9062\n",
            "Epoch 10/100\n",
            "25/25 [==============================] - 0s 6ms/step - loss: 313281.9375 - root_mean_squared_error: 337791.3750 - val_loss: 273467.0312 - val_root_mean_squared_error: 300014.9062\n",
            "Epoch 11/100\n",
            "25/25 [==============================] - 0s 5ms/step - loss: 313281.8750 - root_mean_squared_error: 337791.3438 - val_loss: 273466.9688 - val_root_mean_squared_error: 300014.8750\n",
            "Epoch 12/100\n",
            "25/25 [==============================] - 0s 5ms/step - loss: 313281.8750 - root_mean_squared_error: 337791.3438 - val_loss: 273466.9688 - val_root_mean_squared_error: 300014.8438\n",
            "Epoch 13/100\n",
            "25/25 [==============================] - 0s 6ms/step - loss: 313281.8125 - root_mean_squared_error: 337791.2812 - val_loss: 273466.9375 - val_root_mean_squared_error: 300014.8125\n",
            "Epoch 14/100\n",
            "25/25 [==============================] - 0s 5ms/step - loss: 313281.8125 - root_mean_squared_error: 337791.2812 - val_loss: 273466.9062 - val_root_mean_squared_error: 300014.8125\n",
            "Epoch 15/100\n",
            "25/25 [==============================] - 0s 7ms/step - loss: 313281.7812 - root_mean_squared_error: 337791.2812 - val_loss: 273466.9062 - val_root_mean_squared_error: 300014.7812\n",
            "Epoch 16/100\n",
            "25/25 [==============================] - 0s 6ms/step - loss: 313281.7812 - root_mean_squared_error: 337791.2500 - val_loss: 273466.8750 - val_root_mean_squared_error: 300014.7812\n",
            "Epoch 17/100\n",
            "25/25 [==============================] - 0s 6ms/step - loss: 313281.6875 - root_mean_squared_error: 337791.1875 - val_loss: 273466.8438 - val_root_mean_squared_error: 300014.7188\n",
            "Epoch 18/100\n",
            "25/25 [==============================] - 0s 5ms/step - loss: 313281.6875 - root_mean_squared_error: 337791.1875 - val_loss: 273466.8438 - val_root_mean_squared_error: 300014.7188\n",
            "Epoch 19/100\n",
            "25/25 [==============================] - 0s 6ms/step - loss: 313281.6875 - root_mean_squared_error: 337791.1562 - val_loss: 273466.8125 - val_root_mean_squared_error: 300014.6875\n",
            "Epoch 20/100\n",
            "25/25 [==============================] - 0s 5ms/step - loss: 313281.6562 - root_mean_squared_error: 337791.1250 - val_loss: 273466.7812 - val_root_mean_squared_error: 300014.6875\n",
            "Epoch 21/100\n",
            "25/25 [==============================] - 0s 6ms/step - loss: 313281.6562 - root_mean_squared_error: 337791.1250 - val_loss: 273466.7500 - val_root_mean_squared_error: 300014.6562\n",
            "Epoch 22/100\n",
            "25/25 [==============================] - 0s 6ms/step - loss: 313281.5938 - root_mean_squared_error: 337791.0625 - val_loss: 273466.7188 - val_root_mean_squared_error: 300014.6250\n",
            "Epoch 23/100\n",
            "25/25 [==============================] - 0s 6ms/step - loss: 313281.5938 - root_mean_squared_error: 337791.0312 - val_loss: 273466.7188 - val_root_mean_squared_error: 300014.5938\n",
            "Epoch 24/100\n",
            "25/25 [==============================] - 0s 7ms/step - loss: 313281.5938 - root_mean_squared_error: 337791.0312 - val_loss: 273466.6875 - val_root_mean_squared_error: 300014.5938\n",
            "Epoch 25/100\n",
            "25/25 [==============================] - 0s 7ms/step - loss: 313281.5312 - root_mean_squared_error: 337791.0312 - val_loss: 273466.6562 - val_root_mean_squared_error: 300014.5625\n",
            "Epoch 26/100\n",
            "25/25 [==============================] - 0s 6ms/step - loss: 313281.5312 - root_mean_squared_error: 337791.0000 - val_loss: 273466.6562 - val_root_mean_squared_error: 300014.5312\n",
            "Epoch 27/100\n",
            "25/25 [==============================] - 0s 6ms/step - loss: 313281.4688 - root_mean_squared_error: 337790.9688 - val_loss: 273466.6250 - val_root_mean_squared_error: 300014.5312\n",
            "Epoch 28/100\n",
            "25/25 [==============================] - 0s 5ms/step - loss: 313281.4688 - root_mean_squared_error: 337790.9688 - val_loss: 273466.5938 - val_root_mean_squared_error: 300014.4688\n",
            "Epoch 29/100\n",
            "25/25 [==============================] - 0s 7ms/step - loss: 313281.4375 - root_mean_squared_error: 337790.8750 - val_loss: 273466.5938 - val_root_mean_squared_error: 300014.4688\n",
            "Epoch 30/100\n",
            "25/25 [==============================] - 0s 6ms/step - loss: 313281.4062 - root_mean_squared_error: 337790.8750 - val_loss: 273466.5625 - val_root_mean_squared_error: 300014.4688\n",
            "Epoch 31/100\n",
            "25/25 [==============================] - 0s 6ms/step - loss: 313281.3750 - root_mean_squared_error: 337790.8750 - val_loss: 273466.5312 - val_root_mean_squared_error: 300014.4375\n",
            "Epoch 32/100\n",
            "25/25 [==============================] - 0s 5ms/step - loss: 313281.3438 - root_mean_squared_error: 337790.8125 - val_loss: 273466.5312 - val_root_mean_squared_error: 300014.4062\n",
            "Epoch 33/100\n",
            "25/25 [==============================] - 0s 5ms/step - loss: 313281.3125 - root_mean_squared_error: 337790.8125 - val_loss: 273466.4688 - val_root_mean_squared_error: 300014.3750\n",
            "Epoch 34/100\n",
            "25/25 [==============================] - 0s 3ms/step - loss: 313281.2812 - root_mean_squared_error: 337790.7812 - val_loss: 273466.4688 - val_root_mean_squared_error: 300014.3750\n",
            "Epoch 35/100\n",
            "25/25 [==============================] - 0s 3ms/step - loss: 313281.2500 - root_mean_squared_error: 337790.7188 - val_loss: 273466.4375 - val_root_mean_squared_error: 300014.3438\n",
            "Epoch 36/100\n",
            "25/25 [==============================] - 0s 4ms/step - loss: 313281.2500 - root_mean_squared_error: 337790.7188 - val_loss: 273466.4062 - val_root_mean_squared_error: 300014.3125\n",
            "Epoch 37/100\n",
            "25/25 [==============================] - 0s 4ms/step - loss: 313281.2500 - root_mean_squared_error: 337790.6875 - val_loss: 273466.4062 - val_root_mean_squared_error: 300014.2812\n",
            "Epoch 38/100\n",
            "25/25 [==============================] - 0s 5ms/step - loss: 313281.1875 - root_mean_squared_error: 337790.6562 - val_loss: 273466.3750 - val_root_mean_squared_error: 300014.2812\n",
            "Epoch 39/100\n",
            "25/25 [==============================] - 0s 4ms/step - loss: 313281.1562 - root_mean_squared_error: 337790.6562 - val_loss: 273466.3750 - val_root_mean_squared_error: 300014.2812\n",
            "Epoch 40/100\n",
            "25/25 [==============================] - 0s 4ms/step - loss: 313281.1250 - root_mean_squared_error: 337790.5938 - val_loss: 273466.3750 - val_root_mean_squared_error: 300014.2188\n",
            "Epoch 41/100\n",
            "25/25 [==============================] - 0s 4ms/step - loss: 313281.1250 - root_mean_squared_error: 337790.5938 - val_loss: 273466.3125 - val_root_mean_squared_error: 300014.2188\n",
            "Epoch 42/100\n",
            "25/25 [==============================] - 0s 3ms/step - loss: 313281.0938 - root_mean_squared_error: 337790.5938 - val_loss: 273466.3125 - val_root_mean_squared_error: 300014.1562\n",
            "Epoch 43/100\n",
            "25/25 [==============================] - 0s 4ms/step - loss: 313281.0938 - root_mean_squared_error: 337790.5625 - val_loss: 273466.2812 - val_root_mean_squared_error: 300014.1562\n",
            "Epoch 44/100\n",
            "25/25 [==============================] - 0s 4ms/step - loss: 313281.0312 - root_mean_squared_error: 337790.5312 - val_loss: 273466.2188 - val_root_mean_squared_error: 300014.1562\n",
            "Epoch 45/100\n",
            "25/25 [==============================] - 0s 3ms/step - loss: 313281.0312 - root_mean_squared_error: 337790.4688 - val_loss: 273466.2188 - val_root_mean_squared_error: 300014.1250\n",
            "Epoch 46/100\n",
            "25/25 [==============================] - 0s 3ms/step - loss: 313281.0312 - root_mean_squared_error: 337790.4688 - val_loss: 273466.1875 - val_root_mean_squared_error: 300014.0938\n",
            "Epoch 47/100\n",
            "25/25 [==============================] - 0s 5ms/step - loss: 313280.9688 - root_mean_squared_error: 337790.4688 - val_loss: 273466.1562 - val_root_mean_squared_error: 300014.0938\n",
            "Epoch 48/100\n",
            "25/25 [==============================] - 0s 5ms/step - loss: 313280.9688 - root_mean_squared_error: 337790.4375 - val_loss: 273466.1562 - val_root_mean_squared_error: 300014.0625\n",
            "Epoch 49/100\n",
            "25/25 [==============================] - 0s 3ms/step - loss: 313280.9688 - root_mean_squared_error: 337790.3750 - val_loss: 273466.0938 - val_root_mean_squared_error: 300014.0312\n",
            "Epoch 50/100\n",
            "25/25 [==============================] - 0s 4ms/step - loss: 313280.9062 - root_mean_squared_error: 337790.3438 - val_loss: 273466.0938 - val_root_mean_squared_error: 300014.0000\n",
            "Epoch 51/100\n",
            "25/25 [==============================] - 0s 4ms/step - loss: 313280.9062 - root_mean_squared_error: 337790.3125 - val_loss: 273466.0938 - val_root_mean_squared_error: 300014.0000\n",
            "Epoch 52/100\n",
            "25/25 [==============================] - 0s 4ms/step - loss: 313280.8750 - root_mean_squared_error: 337790.3125 - val_loss: 273466.0625 - val_root_mean_squared_error: 300013.9688\n",
            "Epoch 53/100\n",
            "25/25 [==============================] - 0s 4ms/step - loss: 313280.8750 - root_mean_squared_error: 337790.3125 - val_loss: 273466.0312 - val_root_mean_squared_error: 300013.9375\n",
            "Epoch 54/100\n",
            "25/25 [==============================] - 0s 3ms/step - loss: 313280.8125 - root_mean_squared_error: 337790.2500 - val_loss: 273466.0312 - val_root_mean_squared_error: 300013.9375\n",
            "Epoch 55/100\n",
            "25/25 [==============================] - 0s 3ms/step - loss: 313280.7188 - root_mean_squared_error: 337790.2188 - val_loss: 273465.9688 - val_root_mean_squared_error: 300013.9062\n",
            "Epoch 56/100\n",
            "25/25 [==============================] - 0s 3ms/step - loss: 313280.7188 - root_mean_squared_error: 337790.2500 - val_loss: 273465.9688 - val_root_mean_squared_error: 300013.8750\n",
            "Epoch 57/100\n",
            "25/25 [==============================] - 0s 3ms/step - loss: 313280.7188 - root_mean_squared_error: 337790.2188 - val_loss: 273465.9688 - val_root_mean_squared_error: 300013.8438\n",
            "Epoch 58/100\n",
            "25/25 [==============================] - 0s 3ms/step - loss: 313280.6875 - root_mean_squared_error: 337790.1562 - val_loss: 273465.9375 - val_root_mean_squared_error: 300013.8438\n",
            "Epoch 59/100\n",
            "25/25 [==============================] - 0s 3ms/step - loss: 313280.6562 - root_mean_squared_error: 337790.0938 - val_loss: 273465.9062 - val_root_mean_squared_error: 300013.8438\n",
            "Epoch 60/100\n",
            "25/25 [==============================] - 0s 3ms/step - loss: 313280.6250 - root_mean_squared_error: 337790.1250 - val_loss: 273465.9062 - val_root_mean_squared_error: 300013.7812\n",
            "Epoch 61/100\n",
            "25/25 [==============================] - 0s 3ms/step - loss: 313280.6250 - root_mean_squared_error: 337790.0938 - val_loss: 273465.8750 - val_root_mean_squared_error: 300013.7812\n",
            "Epoch 62/100\n",
            "25/25 [==============================] - 0s 3ms/step - loss: 313280.5625 - root_mean_squared_error: 337790.0625 - val_loss: 273465.8750 - val_root_mean_squared_error: 300013.7188\n",
            "Epoch 63/100\n",
            "25/25 [==============================] - 0s 3ms/step - loss: 313280.5312 - root_mean_squared_error: 337790.0312 - val_loss: 273465.8125 - val_root_mean_squared_error: 300013.7188\n",
            "Epoch 64/100\n",
            "25/25 [==============================] - 0s 3ms/step - loss: 313280.5938 - root_mean_squared_error: 337790.0000 - val_loss: 273465.8125 - val_root_mean_squared_error: 300013.7188\n",
            "Epoch 65/100\n",
            "25/25 [==============================] - 0s 3ms/step - loss: 313280.5312 - root_mean_squared_error: 337790.0312 - val_loss: 273465.7812 - val_root_mean_squared_error: 300013.6875\n",
            "Epoch 66/100\n",
            "25/25 [==============================] - 0s 3ms/step - loss: 313280.5000 - root_mean_squared_error: 337789.9375 - val_loss: 273465.7812 - val_root_mean_squared_error: 300013.6562\n",
            "Epoch 67/100\n",
            "25/25 [==============================] - 0s 3ms/step - loss: 313280.4688 - root_mean_squared_error: 337789.9375 - val_loss: 273465.7188 - val_root_mean_squared_error: 300013.6250\n",
            "Epoch 68/100\n",
            "25/25 [==============================] - 0s 3ms/step - loss: 313280.4375 - root_mean_squared_error: 337789.9062 - val_loss: 273465.7188 - val_root_mean_squared_error: 300013.6250\n",
            "Epoch 69/100\n",
            "25/25 [==============================] - 0s 4ms/step - loss: 313280.4062 - root_mean_squared_error: 337789.8750 - val_loss: 273465.6875 - val_root_mean_squared_error: 300013.6250\n",
            "Epoch 70/100\n",
            "25/25 [==============================] - 0s 4ms/step - loss: 313280.4062 - root_mean_squared_error: 337789.8438 - val_loss: 273465.6562 - val_root_mean_squared_error: 300013.5938\n",
            "Epoch 71/100\n",
            "25/25 [==============================] - 0s 3ms/step - loss: 313280.4062 - root_mean_squared_error: 337789.8438 - val_loss: 273465.6250 - val_root_mean_squared_error: 300013.5312\n",
            "Epoch 72/100\n",
            "25/25 [==============================] - 0s 3ms/step - loss: 313280.3438 - root_mean_squared_error: 337789.7812 - val_loss: 273465.5938 - val_root_mean_squared_error: 300013.5312\n",
            "Epoch 73/100\n",
            "25/25 [==============================] - 0s 3ms/step - loss: 313280.3125 - root_mean_squared_error: 337789.7812 - val_loss: 273465.5938 - val_root_mean_squared_error: 300013.5000\n",
            "Epoch 74/100\n",
            "25/25 [==============================] - 0s 3ms/step - loss: 313280.3125 - root_mean_squared_error: 337789.7500 - val_loss: 273465.5938 - val_root_mean_squared_error: 300013.4688\n",
            "Epoch 75/100\n",
            "25/25 [==============================] - 0s 3ms/step - loss: 313280.3125 - root_mean_squared_error: 337789.7188 - val_loss: 273465.5312 - val_root_mean_squared_error: 300013.4688\n",
            "Epoch 76/100\n",
            "25/25 [==============================] - 0s 3ms/step - loss: 313280.2188 - root_mean_squared_error: 337789.7188 - val_loss: 273465.5312 - val_root_mean_squared_error: 300013.4375\n",
            "Epoch 77/100\n",
            "25/25 [==============================] - 0s 3ms/step - loss: 313280.1875 - root_mean_squared_error: 337789.6562 - val_loss: 273465.5000 - val_root_mean_squared_error: 300013.4062\n",
            "Epoch 78/100\n",
            "25/25 [==============================] - 0s 3ms/step - loss: 313280.1875 - root_mean_squared_error: 337789.6562 - val_loss: 273465.4688 - val_root_mean_squared_error: 300013.4062\n",
            "Epoch 79/100\n",
            "25/25 [==============================] - 0s 4ms/step - loss: 313280.1875 - root_mean_squared_error: 337789.6250 - val_loss: 273465.4688 - val_root_mean_squared_error: 300013.4062\n",
            "Epoch 80/100\n",
            "25/25 [==============================] - 0s 4ms/step - loss: 313280.1562 - root_mean_squared_error: 337789.5938 - val_loss: 273465.4375 - val_root_mean_squared_error: 300013.3438\n",
            "Epoch 81/100\n",
            "25/25 [==============================] - 0s 5ms/step - loss: 313280.1250 - root_mean_squared_error: 337789.5625 - val_loss: 273465.4062 - val_root_mean_squared_error: 300013.3438\n",
            "Epoch 82/100\n",
            "25/25 [==============================] - 0s 5ms/step - loss: 313280.0625 - root_mean_squared_error: 337789.5625 - val_loss: 273465.4062 - val_root_mean_squared_error: 300013.2812\n",
            "Epoch 83/100\n",
            "25/25 [==============================] - 0s 4ms/step - loss: 313280.0312 - root_mean_squared_error: 337789.5000 - val_loss: 273465.3750 - val_root_mean_squared_error: 300013.2812\n",
            "Epoch 84/100\n",
            "25/25 [==============================] - 0s 3ms/step - loss: 313280.0625 - root_mean_squared_error: 337789.5000 - val_loss: 273465.3750 - val_root_mean_squared_error: 300013.2812\n",
            "Epoch 85/100\n",
            "25/25 [==============================] - 0s 4ms/step - loss: 313279.9688 - root_mean_squared_error: 337789.4688 - val_loss: 273465.3438 - val_root_mean_squared_error: 300013.2500\n",
            "Epoch 86/100\n",
            "25/25 [==============================] - 0s 4ms/step - loss: 313279.9375 - root_mean_squared_error: 337789.4375 - val_loss: 273465.3125 - val_root_mean_squared_error: 300013.2188\n",
            "Epoch 87/100\n",
            "25/25 [==============================] - 0s 3ms/step - loss: 313279.9688 - root_mean_squared_error: 337789.4375 - val_loss: 273465.3125 - val_root_mean_squared_error: 300013.1875\n",
            "Epoch 88/100\n",
            "25/25 [==============================] - 0s 3ms/step - loss: 313279.9688 - root_mean_squared_error: 337789.3750 - val_loss: 273465.2500 - val_root_mean_squared_error: 300013.1875\n",
            "Epoch 89/100\n",
            "25/25 [==============================] - 0s 4ms/step - loss: 313279.9062 - root_mean_squared_error: 337789.3750 - val_loss: 273465.2500 - val_root_mean_squared_error: 300013.1562\n",
            "Epoch 90/100\n",
            "25/25 [==============================] - 0s 5ms/step - loss: 313279.9062 - root_mean_squared_error: 337789.3438 - val_loss: 273465.2188 - val_root_mean_squared_error: 300013.1562\n",
            "Epoch 91/100\n",
            "25/25 [==============================] - 0s 4ms/step - loss: 313279.8750 - root_mean_squared_error: 337789.3125 - val_loss: 273465.1875 - val_root_mean_squared_error: 300013.0938\n",
            "Epoch 92/100\n",
            "25/25 [==============================] - 0s 4ms/step - loss: 313279.8125 - root_mean_squared_error: 337789.3125 - val_loss: 273465.1875 - val_root_mean_squared_error: 300013.0938\n",
            "Epoch 93/100\n",
            "25/25 [==============================] - 0s 4ms/step - loss: 313279.8125 - root_mean_squared_error: 337789.2812 - val_loss: 273465.1250 - val_root_mean_squared_error: 300013.0625\n",
            "Epoch 94/100\n",
            "25/25 [==============================] - 0s 4ms/step - loss: 313279.8125 - root_mean_squared_error: 337789.2188 - val_loss: 273465.0938 - val_root_mean_squared_error: 300013.0312\n",
            "Epoch 95/100\n",
            "25/25 [==============================] - 0s 4ms/step - loss: 313279.7500 - root_mean_squared_error: 337789.2188 - val_loss: 273465.0938 - val_root_mean_squared_error: 300013.0312\n",
            "Epoch 96/100\n",
            "25/25 [==============================] - 0s 3ms/step - loss: 313279.7188 - root_mean_squared_error: 337789.1875 - val_loss: 273465.0625 - val_root_mean_squared_error: 300013.0000\n",
            "Epoch 97/100\n",
            "25/25 [==============================] - 0s 4ms/step - loss: 313279.6875 - root_mean_squared_error: 337789.1562 - val_loss: 273465.0625 - val_root_mean_squared_error: 300012.9688\n",
            "Epoch 98/100\n",
            "25/25 [==============================] - 0s 4ms/step - loss: 313279.6875 - root_mean_squared_error: 337789.1250 - val_loss: 273465.0312 - val_root_mean_squared_error: 300012.9688\n",
            "Epoch 99/100\n",
            "25/25 [==============================] - 0s 5ms/step - loss: 313279.6250 - root_mean_squared_error: 337789.1250 - val_loss: 273465.0000 - val_root_mean_squared_error: 300012.9375\n",
            "Epoch 100/100\n",
            "25/25 [==============================] - 0s 3ms/step - loss: 313279.6250 - root_mean_squared_error: 337789.0938 - val_loss: 273464.9688 - val_root_mean_squared_error: 300012.9062\n"
          ]
        },
        {
          "output_type": "execute_result",
          "data": {
            "text/plain": [
              "<keras.src.callbacks.History at 0x78a6c7801420>"
            ]
          },
          "metadata": {},
          "execution_count": 147
        }
      ]
    },
    {
      "cell_type": "code",
      "source": [
        "# prompt: plot the loss agains epochs using plot lib\n",
        "\n",
        "\n",
        "history = model.history.history\n",
        "print(history)\n",
        "loss = history['loss']\n",
        "val_loss = history['val_loss']\n",
        "\n",
        "epochs = range(1, len(loss) + 1)\n",
        "\n",
        "plt.plot(epochs, loss, label='Training loss')\n",
        "plt.plot(epochs, val_loss, label='Val loss')\n",
        "\n",
        "plt.xlabel('Epochs')\n",
        "\n",
        "plt.ylabel('Loss')\n",
        "\n",
        "plt.title('Training loss plot')\n",
        "\n",
        "plt.legend([\"training_loss\", \"val_loss\"])\n",
        "\n",
        "plt.show()\n"
      ],
      "metadata": {
        "colab": {
          "base_uri": "https://localhost:8080/",
          "height": 510
        },
        "id": "HtjmLR45e9u-",
        "outputId": "90351e1f-8d0c-41aa-8feb-5696d34f0bc5"
      },
      "execution_count": 148,
      "outputs": [
        {
          "output_type": "stream",
          "name": "stdout",
          "text": [
            "{'loss': [313282.125, 313282.125, 313282.125, 313282.0625, 313282.03125, 313282.09375, 313282.0, 313281.9375, 313281.96875, 313281.9375, 313281.875, 313281.875, 313281.8125, 313281.8125, 313281.78125, 313281.78125, 313281.6875, 313281.6875, 313281.6875, 313281.65625, 313281.65625, 313281.59375, 313281.59375, 313281.59375, 313281.53125, 313281.53125, 313281.46875, 313281.46875, 313281.4375, 313281.40625, 313281.375, 313281.34375, 313281.3125, 313281.28125, 313281.25, 313281.25, 313281.25, 313281.1875, 313281.15625, 313281.125, 313281.125, 313281.09375, 313281.09375, 313281.03125, 313281.03125, 313281.03125, 313280.96875, 313280.96875, 313280.96875, 313280.90625, 313280.90625, 313280.875, 313280.875, 313280.8125, 313280.71875, 313280.71875, 313280.71875, 313280.6875, 313280.65625, 313280.625, 313280.625, 313280.5625, 313280.53125, 313280.59375, 313280.53125, 313280.5, 313280.46875, 313280.4375, 313280.40625, 313280.40625, 313280.40625, 313280.34375, 313280.3125, 313280.3125, 313280.3125, 313280.21875, 313280.1875, 313280.1875, 313280.1875, 313280.15625, 313280.125, 313280.0625, 313280.03125, 313280.0625, 313279.96875, 313279.9375, 313279.96875, 313279.96875, 313279.90625, 313279.90625, 313279.875, 313279.8125, 313279.8125, 313279.8125, 313279.75, 313279.71875, 313279.6875, 313279.6875, 313279.625, 313279.625], 'root_mean_squared_error': [337791.59375, 337791.5625, 337791.5625, 337791.5, 337791.5, 337791.46875, 337791.46875, 337791.4375, 337791.40625, 337791.375, 337791.34375, 337791.34375, 337791.28125, 337791.28125, 337791.28125, 337791.25, 337791.1875, 337791.1875, 337791.15625, 337791.125, 337791.125, 337791.0625, 337791.03125, 337791.03125, 337791.03125, 337791.0, 337790.96875, 337790.96875, 337790.875, 337790.875, 337790.875, 337790.8125, 337790.8125, 337790.78125, 337790.71875, 337790.71875, 337790.6875, 337790.65625, 337790.65625, 337790.59375, 337790.59375, 337790.59375, 337790.5625, 337790.53125, 337790.46875, 337790.46875, 337790.46875, 337790.4375, 337790.375, 337790.34375, 337790.3125, 337790.3125, 337790.3125, 337790.25, 337790.21875, 337790.25, 337790.21875, 337790.15625, 337790.09375, 337790.125, 337790.09375, 337790.0625, 337790.03125, 337790.0, 337790.03125, 337789.9375, 337789.9375, 337789.90625, 337789.875, 337789.84375, 337789.84375, 337789.78125, 337789.78125, 337789.75, 337789.71875, 337789.71875, 337789.65625, 337789.65625, 337789.625, 337789.59375, 337789.5625, 337789.5625, 337789.5, 337789.5, 337789.46875, 337789.4375, 337789.4375, 337789.375, 337789.375, 337789.34375, 337789.3125, 337789.3125, 337789.28125, 337789.21875, 337789.21875, 337789.1875, 337789.15625, 337789.125, 337789.125, 337789.09375], 'val_loss': [273467.21875, 273467.1875, 273467.15625, 273467.125, 273467.125, 273467.09375, 273467.0625, 273467.0625, 273467.03125, 273467.03125, 273466.96875, 273466.96875, 273466.9375, 273466.90625, 273466.90625, 273466.875, 273466.84375, 273466.84375, 273466.8125, 273466.78125, 273466.75, 273466.71875, 273466.71875, 273466.6875, 273466.65625, 273466.65625, 273466.625, 273466.59375, 273466.59375, 273466.5625, 273466.53125, 273466.53125, 273466.46875, 273466.46875, 273466.4375, 273466.40625, 273466.40625, 273466.375, 273466.375, 273466.375, 273466.3125, 273466.3125, 273466.28125, 273466.21875, 273466.21875, 273466.1875, 273466.15625, 273466.15625, 273466.09375, 273466.09375, 273466.09375, 273466.0625, 273466.03125, 273466.03125, 273465.96875, 273465.96875, 273465.96875, 273465.9375, 273465.90625, 273465.90625, 273465.875, 273465.875, 273465.8125, 273465.8125, 273465.78125, 273465.78125, 273465.71875, 273465.71875, 273465.6875, 273465.65625, 273465.625, 273465.59375, 273465.59375, 273465.59375, 273465.53125, 273465.53125, 273465.5, 273465.46875, 273465.46875, 273465.4375, 273465.40625, 273465.40625, 273465.375, 273465.375, 273465.34375, 273465.3125, 273465.3125, 273465.25, 273465.25, 273465.21875, 273465.1875, 273465.1875, 273465.125, 273465.09375, 273465.09375, 273465.0625, 273465.0625, 273465.03125, 273465.0, 273464.96875], 'val_root_mean_squared_error': [300015.09375, 300015.0625, 300015.03125, 300015.03125, 300015.03125, 300015.0, 300014.96875, 300014.9375, 300014.90625, 300014.90625, 300014.875, 300014.84375, 300014.8125, 300014.8125, 300014.78125, 300014.78125, 300014.71875, 300014.71875, 300014.6875, 300014.6875, 300014.65625, 300014.625, 300014.59375, 300014.59375, 300014.5625, 300014.53125, 300014.53125, 300014.46875, 300014.46875, 300014.46875, 300014.4375, 300014.40625, 300014.375, 300014.375, 300014.34375, 300014.3125, 300014.28125, 300014.28125, 300014.28125, 300014.21875, 300014.21875, 300014.15625, 300014.15625, 300014.15625, 300014.125, 300014.09375, 300014.09375, 300014.0625, 300014.03125, 300014.0, 300014.0, 300013.96875, 300013.9375, 300013.9375, 300013.90625, 300013.875, 300013.84375, 300013.84375, 300013.84375, 300013.78125, 300013.78125, 300013.71875, 300013.71875, 300013.71875, 300013.6875, 300013.65625, 300013.625, 300013.625, 300013.625, 300013.59375, 300013.53125, 300013.53125, 300013.5, 300013.46875, 300013.46875, 300013.4375, 300013.40625, 300013.40625, 300013.40625, 300013.34375, 300013.34375, 300013.28125, 300013.28125, 300013.28125, 300013.25, 300013.21875, 300013.1875, 300013.1875, 300013.15625, 300013.15625, 300013.09375, 300013.09375, 300013.0625, 300013.03125, 300013.03125, 300013.0, 300012.96875, 300012.96875, 300012.9375, 300012.90625]}\n"
          ]
        },
        {
          "output_type": "display_data",
          "data": {
            "text/plain": [
              "<Figure size 640x480 with 1 Axes>"
            ],
            "image/png": "[encoded data removed]"
          },
          "metadata": {}
        }
      ]
    },
    {
      "cell_type": "code",
      "source": [
        "# prompt: plot the loss agains epochs using plot lib\n",
        "\n",
        "history = model.history.history\n",
        "\n",
        "rmse = history['root_mean_squared_error']\n",
        "\n",
        "epochs = range(1, len(rmse) + 1)\n",
        "\n",
        "plt.plot(epochs, rmse, label='Training rmse')\n",
        "\n",
        "plt.xlabel('Epochs')\n",
        "\n",
        "plt.ylabel('rmse')\n",
        "\n",
        "plt.title('Training rmse plot')\n",
        "\n",
        "plt.legend()\n",
        "\n",
        "plt.show()\n"
      ],
      "metadata": {
        "colab": {
          "base_uri": "https://localhost:8080/",
          "height": 472
        },
        "id": "_hTizTNSfi5n",
        "outputId": "33c7ebb8-a565-418d-c42c-110754dcd83d"
      },
      "execution_count": 149,
      "outputs": [
        {
          "output_type": "display_data",
          "data": {
            "text/plain": [
              "<Figure size 640x480 with 1 Axes>"
            ],
            "image/png": "[encoded data removed]"
          },
          "metadata": {}
        }
      ]
    },
    {
      "cell_type": "code",
      "source": [
        "model.evaluate(x, y)\n",
        "# 5:54"
      ],
      "metadata": {
        "colab": {
          "base_uri": "https://localhost:8080/"
        },
        "id": "TgskO8I5j03J",
        "outputId": "767c54af-dfeb-46b6-a16b-9f10be6462a0"
      },
      "execution_count": 150,
      "outputs": [
        {
          "output_type": "stream",
          "name": "stdout",
          "text": [
            "32/32 [==============================] - 0s 1ms/step - loss: 308517.7188 - root_mean_squared_error: 333259.2812\n"
          ]
        },
        {
          "output_type": "execute_result",
          "data": {
            "text/plain": [
              "[308517.71875, 333259.28125]"
            ]
          },
          "metadata": {},
          "execution_count": 150
        }
      ]
    },
    {
      "cell_type": "code",
      "source": [],
      "metadata": {
        "id": "i00YVErr5dym"
      },
      "execution_count": 150,
      "outputs": []
    },
    {
      "cell_type": "code",
      "source": [],
      "metadata": {
        "id": "5qfs5UfG6P50"
      },
      "execution_count": 150,
      "outputs": []
    },
    {
      "cell_type": "code",
      "source": [],
      "metadata": {
        "id": "MNn9VUyl600g"
      },
      "execution_count": 150,
      "outputs": []
    },
    {
      "cell_type": "code",
      "source": [
        "\n"
      ],
      "metadata": {
        "id": "CazkKpJO69Dr"
      },
      "execution_count": 150,
      "outputs": []
    }
  ]
}