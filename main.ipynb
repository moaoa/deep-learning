{
  "nbformat": 4,
  "nbformat_minor": 0,
  "metadata": {
    "colab": {
      "provenance": [],
      "include_colab_link": true
    },
    "kernelspec": {
      "name": "python3",
      "display_name": "Python 3"
    },
    "language_info": {
      "name": "python"
    }
  },
  "cells": [
    {
      "cell_type": "markdown",
      "metadata": {
        "id": "view-in-github",
        "colab_type": "text"
      },
      "source": [
        "<a href=\"https://colab.research.google.com/github/moaoa/deep-learning/blob/main/main.ipynb\" target=\"_parent\"><img src=\"https://colab.research.google.com/assets/colab-badge.svg\" alt=\"Open In Colab\"/></a>"
      ]
    },
    {
      "cell_type": "code",
      "execution_count": 20,
      "metadata": {
        "colab": {
          "base_uri": "https://localhost:8080/"
        },
        "id": "jMIA8incGkMe",
        "outputId": "b8f2de49-c636-44b6-a6a1-81ec90aae47b"
      },
      "outputs": [
        {
          "output_type": "stream",
          "name": "stdout",
          "text": [
            "Requirement already satisfied: pandas in /usr/local/lib/python3.10/dist-packages (2.0.3)\n",
            "Requirement already satisfied: python-dateutil>=2.8.2 in /usr/local/lib/python3.10/dist-packages (from pandas) (2.8.2)\n",
            "Requirement already satisfied: pytz>=2020.1 in /usr/local/lib/python3.10/dist-packages (from pandas) (2023.4)\n",
            "Requirement already satisfied: tzdata>=2022.1 in /usr/local/lib/python3.10/dist-packages (from pandas) (2024.1)\n",
            "Requirement already satisfied: numpy>=1.21.0 in /usr/local/lib/python3.10/dist-packages (from pandas) (1.25.2)\n",
            "Requirement already satisfied: six>=1.5 in /usr/local/lib/python3.10/dist-packages (from python-dateutil>=2.8.2->pandas) (1.16.0)\n",
            "Requirement already satisfied: tensorflow in /usr/local/lib/python3.10/dist-packages (2.15.0)\n",
            "Requirement already satisfied: absl-py>=1.0.0 in /usr/local/lib/python3.10/dist-packages (from tensorflow) (1.4.0)\n",
            "Requirement already satisfied: astunparse>=1.6.0 in /usr/local/lib/python3.10/dist-packages (from tensorflow) (1.6.3)\n",
            "Requirement already satisfied: flatbuffers>=23.5.26 in /usr/local/lib/python3.10/dist-packages (from tensorflow) (24.3.25)\n",
            "Requirement already satisfied: gast!=0.5.0,!=0.5.1,!=0.5.2,>=0.2.1 in /usr/local/lib/python3.10/dist-packages (from tensorflow) (0.5.4)\n",
            "Requirement already satisfied: google-pasta>=0.1.1 in /usr/local/lib/python3.10/dist-packages (from tensorflow) (0.2.0)\n",
            "Requirement already satisfied: h5py>=2.9.0 in /usr/local/lib/python3.10/dist-packages (from tensorflow) (3.9.0)\n",
            "Requirement already satisfied: libclang>=13.0.0 in /usr/local/lib/python3.10/dist-packages (from tensorflow) (18.1.1)\n",
            "Requirement already satisfied: ml-dtypes~=0.2.0 in /usr/local/lib/python3.10/dist-packages (from tensorflow) (0.2.0)\n",
            "Requirement already satisfied: numpy<2.0.0,>=1.23.5 in /usr/local/lib/python3.10/dist-packages (from tensorflow) (1.25.2)\n",
            "Requirement already satisfied: opt-einsum>=2.3.2 in /usr/local/lib/python3.10/dist-packages (from tensorflow) (3.3.0)\n",
            "Requirement already satisfied: packaging in /usr/local/lib/python3.10/dist-packages (from tensorflow) (24.0)\n",
            "Requirement already satisfied: protobuf!=4.21.0,!=4.21.1,!=4.21.2,!=4.21.3,!=4.21.4,!=4.21.5,<5.0.0dev,>=3.20.3 in /usr/local/lib/python3.10/dist-packages (from tensorflow) (3.20.3)\n",
            "Requirement already satisfied: setuptools in /usr/local/lib/python3.10/dist-packages (from tensorflow) (67.7.2)\n",
            "Requirement already satisfied: six>=1.12.0 in /usr/local/lib/python3.10/dist-packages (from tensorflow) (1.16.0)\n",
            "Requirement already satisfied: termcolor>=1.1.0 in /usr/local/lib/python3.10/dist-packages (from tensorflow) (2.4.0)\n",
            "Requirement already satisfied: typing-extensions>=3.6.6 in /usr/local/lib/python3.10/dist-packages (from tensorflow) (4.12.1)\n",
            "Requirement already satisfied: wrapt<1.15,>=1.11.0 in /usr/local/lib/python3.10/dist-packages (from tensorflow) (1.14.1)\n",
            "Requirement already satisfied: tensorflow-io-gcs-filesystem>=0.23.1 in /usr/local/lib/python3.10/dist-packages (from tensorflow) (0.37.0)\n",
            "Requirement already satisfied: grpcio<2.0,>=1.24.3 in /usr/local/lib/python3.10/dist-packages (from tensorflow) (1.64.1)\n",
            "Requirement already satisfied: tensorboard<2.16,>=2.15 in /usr/local/lib/python3.10/dist-packages (from tensorflow) (2.15.2)\n",
            "Requirement already satisfied: tensorflow-estimator<2.16,>=2.15.0 in /usr/local/lib/python3.10/dist-packages (from tensorflow) (2.15.0)\n",
            "Requirement already satisfied: keras<2.16,>=2.15.0 in /usr/local/lib/python3.10/dist-packages (from tensorflow) (2.15.0)\n",
            "Requirement already satisfied: wheel<1.0,>=0.23.0 in /usr/local/lib/python3.10/dist-packages (from astunparse>=1.6.0->tensorflow) (0.43.0)\n",
            "Requirement already satisfied: google-auth<3,>=1.6.3 in /usr/local/lib/python3.10/dist-packages (from tensorboard<2.16,>=2.15->tensorflow) (2.27.0)\n",
            "Requirement already satisfied: google-auth-oauthlib<2,>=0.5 in /usr/local/lib/python3.10/dist-packages (from tensorboard<2.16,>=2.15->tensorflow) (1.2.0)\n",
            "Requirement already satisfied: markdown>=2.6.8 in /usr/local/lib/python3.10/dist-packages (from tensorboard<2.16,>=2.15->tensorflow) (3.6)\n",
            "Requirement already satisfied: requests<3,>=2.21.0 in /usr/local/lib/python3.10/dist-packages (from tensorboard<2.16,>=2.15->tensorflow) (2.31.0)\n",
            "Requirement already satisfied: tensorboard-data-server<0.8.0,>=0.7.0 in /usr/local/lib/python3.10/dist-packages (from tensorboard<2.16,>=2.15->tensorflow) (0.7.2)\n",
            "Requirement already satisfied: werkzeug>=1.0.1 in /usr/local/lib/python3.10/dist-packages (from tensorboard<2.16,>=2.15->tensorflow) (3.0.3)\n",
            "Requirement already satisfied: cachetools<6.0,>=2.0.0 in /usr/local/lib/python3.10/dist-packages (from google-auth<3,>=1.6.3->tensorboard<2.16,>=2.15->tensorflow) (5.3.3)\n",
            "Requirement already satisfied: pyasn1-modules>=0.2.1 in /usr/local/lib/python3.10/dist-packages (from google-auth<3,>=1.6.3->tensorboard<2.16,>=2.15->tensorflow) (0.4.0)\n",
            "Requirement already satisfied: rsa<5,>=3.1.4 in /usr/local/lib/python3.10/dist-packages (from google-auth<3,>=1.6.3->tensorboard<2.16,>=2.15->tensorflow) (4.9)\n",
            "Requirement already satisfied: requests-oauthlib>=0.7.0 in /usr/local/lib/python3.10/dist-packages (from google-auth-oauthlib<2,>=0.5->tensorboard<2.16,>=2.15->tensorflow) (1.3.1)\n",
            "Requirement already satisfied: charset-normalizer<4,>=2 in /usr/local/lib/python3.10/dist-packages (from requests<3,>=2.21.0->tensorboard<2.16,>=2.15->tensorflow) (3.3.2)\n",
            "Requirement already satisfied: idna<4,>=2.5 in /usr/local/lib/python3.10/dist-packages (from requests<3,>=2.21.0->tensorboard<2.16,>=2.15->tensorflow) (3.7)\n",
            "Requirement already satisfied: urllib3<3,>=1.21.1 in /usr/local/lib/python3.10/dist-packages (from requests<3,>=2.21.0->tensorboard<2.16,>=2.15->tensorflow) (2.0.7)\n",
            "Requirement already satisfied: certifi>=2017.4.17 in /usr/local/lib/python3.10/dist-packages (from requests<3,>=2.21.0->tensorboard<2.16,>=2.15->tensorflow) (2024.6.2)\n",
            "Requirement already satisfied: MarkupSafe>=2.1.1 in /usr/local/lib/python3.10/dist-packages (from werkzeug>=1.0.1->tensorboard<2.16,>=2.15->tensorflow) (2.1.5)\n",
            "Requirement already satisfied: pyasn1<0.7.0,>=0.4.6 in /usr/local/lib/python3.10/dist-packages (from pyasn1-modules>=0.2.1->google-auth<3,>=1.6.3->tensorboard<2.16,>=2.15->tensorflow) (0.6.0)\n",
            "Requirement already satisfied: oauthlib>=3.0.0 in /usr/local/lib/python3.10/dist-packages (from requests-oauthlib>=0.7.0->google-auth-oauthlib<2,>=0.5->tensorboard<2.16,>=2.15->tensorflow) (3.2.2)\n",
            "Requirement already satisfied: seaborn in /usr/local/lib/python3.10/dist-packages (0.13.1)\n",
            "Requirement already satisfied: numpy!=1.24.0,>=1.20 in /usr/local/lib/python3.10/dist-packages (from seaborn) (1.25.2)\n",
            "Requirement already satisfied: pandas>=1.2 in /usr/local/lib/python3.10/dist-packages (from seaborn) (2.0.3)\n",
            "Requirement already satisfied: matplotlib!=3.6.1,>=3.4 in /usr/local/lib/python3.10/dist-packages (from seaborn) (3.7.1)\n",
            "Requirement already satisfied: contourpy>=1.0.1 in /usr/local/lib/python3.10/dist-packages (from matplotlib!=3.6.1,>=3.4->seaborn) (1.2.1)\n",
            "Requirement already satisfied: cycler>=0.10 in /usr/local/lib/python3.10/dist-packages (from matplotlib!=3.6.1,>=3.4->seaborn) (0.12.1)\n",
            "Requirement already satisfied: fonttools>=4.22.0 in /usr/local/lib/python3.10/dist-packages (from matplotlib!=3.6.1,>=3.4->seaborn) (4.53.0)\n",
            "Requirement already satisfied: kiwisolver>=1.0.1 in /usr/local/lib/python3.10/dist-packages (from matplotlib!=3.6.1,>=3.4->seaborn) (1.4.5)\n",
            "Requirement already satisfied: packaging>=20.0 in /usr/local/lib/python3.10/dist-packages (from matplotlib!=3.6.1,>=3.4->seaborn) (24.0)\n",
            "Requirement already satisfied: pillow>=6.2.0 in /usr/local/lib/python3.10/dist-packages (from matplotlib!=3.6.1,>=3.4->seaborn) (9.4.0)\n",
            "Requirement already satisfied: pyparsing>=2.3.1 in /usr/local/lib/python3.10/dist-packages (from matplotlib!=3.6.1,>=3.4->seaborn) (3.1.2)\n",
            "Requirement already satisfied: python-dateutil>=2.7 in /usr/local/lib/python3.10/dist-packages (from matplotlib!=3.6.1,>=3.4->seaborn) (2.8.2)\n",
            "Requirement already satisfied: pytz>=2020.1 in /usr/local/lib/python3.10/dist-packages (from pandas>=1.2->seaborn) (2023.4)\n",
            "Requirement already satisfied: tzdata>=2022.1 in /usr/local/lib/python3.10/dist-packages (from pandas>=1.2->seaborn) (2024.1)\n",
            "Requirement already satisfied: six>=1.5 in /usr/local/lib/python3.10/dist-packages (from python-dateutil>=2.7->matplotlib!=3.6.1,>=3.4->seaborn) (1.16.0)\n"
          ]
        }
      ],
      "source": [
        "# prompt: install pandas and tensorflow and seaborn and import them\n",
        "\n",
        "!pip install pandas\n",
        "!pip install tensorflow\n",
        "!pip install seaborn\n",
        "\n",
        "import pandas as pd\n",
        "import tensorflow as tf\n",
        "import seaborn as sns\n",
        "from tensorflow.keras.layers import Normalization, Dense, InputLayer\n",
        "from tensorflow.keras.losses import MeanSquaredError, Huber, MeanAbsoluteError\n",
        "from tensorflow.keras.optimizers import Adam\n",
        "from tensorflow.keras.metrics import RootMeanSquaredError\n",
        "import matplotlib.pyplot as plt\n",
        "\n",
        "\n",
        "\n"
      ]
    },
    {
      "cell_type": "code",
      "source": [
        "\n",
        "# Read the data from the CSV file\n",
        "df = pd.read_csv(\"train.csv\")\n",
        "\n",
        "# Display the data\n",
        "print(df.head())\n"
      ],
      "metadata": {
        "colab": {
          "base_uri": "https://localhost:8080/"
        },
        "id": "NHiivBUZPE1r",
        "outputId": "9ec4d465-3c19-4df5-a7bc-b7f39ecdbe1d"
      },
      "execution_count": 2,
      "outputs": [
        {
          "output_type": "stream",
          "name": "stdout",
          "text": [
            "   v.id  on road old  on road now  years      km  rating  condition  economy  \\\n",
            "0     1       535651       798186      3   78945       1          2       14   \n",
            "1     2       591911       861056      6  117220       5          9        9   \n",
            "2     3       686990       770762      2  132538       2          8       15   \n",
            "3     4       573999       722381      4  101065       4          3       11   \n",
            "4     5       691388       811335      6   61559       3          9       12   \n",
            "\n",
            "   top speed  hp  torque  current price  \n",
            "0        177  73     123       351318.0  \n",
            "1        148  74      95       285001.5  \n",
            "2        181  53      97       215386.0  \n",
            "3        197  54     116       244295.5  \n",
            "4        160  53     105       531114.5  \n"
          ]
        }
      ]
    },
    {
      "cell_type": "code",
      "source": [
        "# prompt: using the seaborn lib use the methdo show pair to show the data\n",
        "\n",
        "# sns.pairplot(df, diag_kind='kde')\n"
      ],
      "metadata": {
        "id": "trMZLoUsPVqK"
      },
      "execution_count": 11,
      "outputs": []
    },
    {
      "cell_type": "code",
      "source": [
        "tensor_df = tf.convert_to_tensor(df, tf.float32)\n",
        "\n",
        "print(tensor_df)"
      ],
      "metadata": {
        "colab": {
          "base_uri": "https://localhost:8080/"
        },
        "id": "OjUoTtmHVZno",
        "outputId": "8f345864-68b5-4f2b-9cad-aadf8159caff"
      },
      "execution_count": 4,
      "outputs": [
        {
          "output_type": "stream",
          "name": "stdout",
          "text": [
            "tf.Tensor(\n",
            "[[1.000000e+00 5.356510e+05 7.981860e+05 ... 7.300000e+01 1.230000e+02\n",
            "  3.513180e+05]\n",
            " [2.000000e+00 5.919110e+05 8.610560e+05 ... 7.400000e+01 9.500000e+01\n",
            "  2.850015e+05]\n",
            " [3.000000e+00 6.869900e+05 7.707620e+05 ... 5.300000e+01 9.700000e+01\n",
            "  2.153860e+05]\n",
            " ...\n",
            " [9.980000e+02 6.463440e+05 8.427330e+05 ... 1.130000e+02 8.900000e+01\n",
            "  4.058710e+05]\n",
            " [9.990000e+02 5.355590e+05 7.324390e+05 ... 1.120000e+02 1.280000e+02\n",
            "  7.439800e+04]\n",
            " [1.000000e+03 5.901050e+05 7.797430e+05 ... 9.900000e+01 9.600000e+01\n",
            "  4.149385e+05]], shape=(1000, 12), dtype=float32)\n"
          ]
        }
      ]
    },
    {
      "cell_type": "code",
      "source": [
        "x = tensor_df[:, 3:-1]\n",
        "\n",
        "print(x[:8])"
      ],
      "metadata": {
        "colab": {
          "base_uri": "https://localhost:8080/"
        },
        "id": "mxiOcC0EdlEG",
        "outputId": "28706c59-1bcb-4a9a-da34-f570595a8348"
      },
      "execution_count": 5,
      "outputs": [
        {
          "output_type": "stream",
          "name": "stdout",
          "text": [
            "tf.Tensor(\n",
            "[[3.00000e+00 7.89450e+04 1.00000e+00 2.00000e+00 1.40000e+01 1.77000e+02\n",
            "  7.30000e+01 1.23000e+02]\n",
            " [6.00000e+00 1.17220e+05 5.00000e+00 9.00000e+00 9.00000e+00 1.48000e+02\n",
            "  7.40000e+01 9.50000e+01]\n",
            " [2.00000e+00 1.32538e+05 2.00000e+00 8.00000e+00 1.50000e+01 1.81000e+02\n",
            "  5.30000e+01 9.70000e+01]\n",
            " [4.00000e+00 1.01065e+05 4.00000e+00 3.00000e+00 1.10000e+01 1.97000e+02\n",
            "  5.40000e+01 1.16000e+02]\n",
            " [6.00000e+00 6.15590e+04 3.00000e+00 9.00000e+00 1.20000e+01 1.60000e+02\n",
            "  5.30000e+01 1.05000e+02]\n",
            " [6.00000e+00 1.48846e+05 2.00000e+00 9.00000e+00 1.30000e+01 1.38000e+02\n",
            "  6.10000e+01 1.09000e+02]\n",
            " [5.00000e+00 7.80250e+04 1.00000e+00 9.00000e+00 1.50000e+01 1.71000e+02\n",
            "  9.40000e+01 1.32000e+02]\n",
            " [6.00000e+00 7.65460e+04 1.00000e+00 2.00000e+00 1.20000e+01 1.46000e+02\n",
            "  1.09000e+02 9.60000e+01]], shape=(8, 8), dtype=float32)\n"
          ]
        }
      ]
    },
    {
      "cell_type": "code",
      "source": [
        "y = tf.expand_dims(tensor_df[:, -1], axis=-1)\n",
        "\n",
        "print(y[:8])"
      ],
      "metadata": {
        "colab": {
          "base_uri": "https://localhost:8080/"
        },
        "id": "eemLrK8QeQrT",
        "outputId": "002c1cd2-e91e-43d6-cf7b-69a41d2250c0"
      },
      "execution_count": 6,
      "outputs": [
        {
          "output_type": "stream",
          "name": "stdout",
          "text": [
            "tf.Tensor(\n",
            "[[351318. ]\n",
            " [285001.5]\n",
            " [215386. ]\n",
            " [244295.5]\n",
            " [531114.5]\n",
            " [177933.5]\n",
            " [410877. ]\n",
            " [467471.5]], shape=(8, 1), dtype=float32)\n"
          ]
        }
      ]
    },
    {
      "cell_type": "code",
      "source": [
        "normalizer = Normalization(axis=-1)\n",
        "\n",
        "# x_normalized = tf.constant([\n",
        "#         [3, 2, 5, 6, 7, 2, 5, 1],\n",
        "#         [3, 4, 5, 6, 4, 2, 5, 1],\n",
        "#         [4, 7, 6, 2, 8, 2, 5, 1]\n",
        "#       ])\n",
        "\n",
        "normalizer.adapt(x)\n",
        "\n",
        "print(normalizer(x))"
      ],
      "metadata": {
        "colab": {
          "base_uri": "https://localhost:8080/"
        },
        "id": "vGc2PX6d8WCm",
        "outputId": "735af90e-0f18-4f3e-decc-fc992f5171c6"
      },
      "execution_count": 13,
      "outputs": [
        {
          "output_type": "stream",
          "name": "stdout",
          "text": [
            "tf.Tensor(\n",
            "[[-0.9084985  -0.7320671  -1.4178834  ...  0.524257   -0.56303626\n",
            "   0.93010384]\n",
            " [ 0.8374949   0.5816051   1.4350008  ... -0.9799913  -0.5142717\n",
            "  -0.40017724]\n",
            " [-1.4904963   1.1073486  -0.7046623  ...  0.7317395  -1.5383282\n",
            "  -0.30515718]\n",
            " ...\n",
            " [ 1.4194927  -0.4651454  -1.4178834  ...  1.509799    1.3875475\n",
            "  -0.68523747]\n",
            " [-1.4904963   1.3798648   0.72177976 ...  0.8873514   1.3387829\n",
            "   1.167654  ]\n",
            " [ 0.25549713 -1.1319177   0.72177976 ...  1.6654109   0.70484316\n",
            "  -0.3526672 ]], shape=(1000, 8), dtype=float32)\n"
          ]
        }
      ]
    },
    {
      "cell_type": "code",
      "source": [
        "model = tf.keras.Sequential([\n",
        "    InputLayer(input_shape=(8, )),\n",
        "    normalizer,\n",
        "    Dense(1)\n",
        "])\n",
        "\n",
        "model.summary()"
      ],
      "metadata": {
        "id": "xfqm7TGT9bzr",
        "outputId": "99093a50-eb57-4392-bc04-29634ed3b2a4",
        "colab": {
          "base_uri": "https://localhost:8080/"
        }
      },
      "execution_count": 14,
      "outputs": [
        {
          "output_type": "stream",
          "name": "stdout",
          "text": [
            "Model: \"sequential_1\"\n",
            "_________________________________________________________________\n",
            " Layer (type)                Output Shape              Param #   \n",
            "=================================================================\n",
            " normalization_1 (Normaliza  (None, 8)                 17        \n",
            " tion)                                                           \n",
            "                                                                 \n",
            " dense_1 (Dense)             (None, 1)                 9         \n",
            "                                                                 \n",
            "=================================================================\n",
            "Total params: 26 (108.00 Byte)\n",
            "Trainable params: 9 (36.00 Byte)\n",
            "Non-trainable params: 17 (72.00 Byte)\n",
            "_________________________________________________________________\n"
          ]
        }
      ]
    },
    {
      "cell_type": "code",
      "source": [
        "tf.keras.utils.plot_model(model, to_file=\"model.png\", show_shapes=True)"
      ],
      "metadata": {
        "id": "lsSUGl41DpPj",
        "outputId": "eadf2c34-1b22-448a-dd71-a57b5f4c20e5",
        "colab": {
          "base_uri": "https://localhost:8080/",
          "height": 312
        }
      },
      "execution_count": 15,
      "outputs": [
        {
          "output_type": "execute_result",
          "data": {
            "image/png": "[encoded data removed]",
            "text/plain": [
              "<IPython.core.display.Image object>"
            ]
          },
          "metadata": {},
          "execution_count": 15
        }
      ]
    },
    {
      "cell_type": "code",
      "source": [
        "model.compile(optimizer=Adam(), loss = MeanAbsoluteError(), metrics=[RootMeanSquaredError()])\n",
        "\n",
        "model.fit(x, y, epochs=100)\n",
        "\n",
        "# 5:25"
      ],
      "metadata": {
        "id": "_X30gqwRD0in",
        "colab": {
          "base_uri": "https://localhost:8080/"
        },
        "outputId": "42da1b38-bb1b-4026-8900-2780276473cc"
      },
      "execution_count": 17,
      "outputs": [
        {
          "output_type": "stream",
          "name": "stdout",
          "text": [
            "Epoch 1/100\n",
            "32/32 [==============================] - 1s 2ms/step - loss: 308520.2188 - root_mean_squared_error: 333261.6562\n",
            "Epoch 2/100\n",
            "32/32 [==============================] - 0s 2ms/step - loss: 308520.1875 - root_mean_squared_error: 333261.6562\n",
            "Epoch 3/100\n",
            "32/32 [==============================] - 0s 2ms/step - loss: 308520.1250 - root_mean_squared_error: 333261.6250\n",
            "Epoch 4/100\n",
            "32/32 [==============================] - 0s 2ms/step - loss: 308520.0938 - root_mean_squared_error: 333261.5625\n",
            "Epoch 5/100\n",
            "32/32 [==============================] - 0s 2ms/step - loss: 308520.1250 - root_mean_squared_error: 333261.5625\n",
            "Epoch 6/100\n",
            "32/32 [==============================] - 0s 2ms/step - loss: 308520.0938 - root_mean_squared_error: 333261.5000\n",
            "Epoch 7/100\n",
            "32/32 [==============================] - 0s 3ms/step - loss: 308520.0000 - root_mean_squared_error: 333261.4688\n",
            "Epoch 8/100\n",
            "32/32 [==============================] - 0s 2ms/step - loss: 308520.0000 - root_mean_squared_error: 333261.4375\n",
            "Epoch 9/100\n",
            "32/32 [==============================] - 0s 2ms/step - loss: 308520.0312 - root_mean_squared_error: 333261.4062\n",
            "Epoch 10/100\n",
            "32/32 [==============================] - 0s 2ms/step - loss: 308519.9375 - root_mean_squared_error: 333261.4062\n",
            "Epoch 11/100\n",
            "32/32 [==============================] - 0s 2ms/step - loss: 308519.9062 - root_mean_squared_error: 333261.3438\n",
            "Epoch 12/100\n",
            "32/32 [==============================] - 0s 2ms/step - loss: 308519.8750 - root_mean_squared_error: 333261.3438\n",
            "Epoch 13/100\n",
            "32/32 [==============================] - 0s 2ms/step - loss: 308519.8750 - root_mean_squared_error: 333261.2812\n",
            "Epoch 14/100\n",
            "32/32 [==============================] - 0s 2ms/step - loss: 308519.8125 - root_mean_squared_error: 333261.2812\n",
            "Epoch 15/100\n",
            "32/32 [==============================] - 0s 2ms/step - loss: 308519.7500 - root_mean_squared_error: 333261.2500\n",
            "Epoch 16/100\n",
            "32/32 [==============================] - 0s 2ms/step - loss: 308519.7188 - root_mean_squared_error: 333261.2188\n",
            "Epoch 17/100\n",
            "32/32 [==============================] - 0s 2ms/step - loss: 308519.7500 - root_mean_squared_error: 333261.1562\n",
            "Epoch 18/100\n",
            "32/32 [==============================] - 0s 2ms/step - loss: 308519.6875 - root_mean_squared_error: 333261.1562\n",
            "Epoch 19/100\n",
            "32/32 [==============================] - 0s 2ms/step - loss: 308519.6875 - root_mean_squared_error: 333261.1250\n",
            "Epoch 20/100\n",
            "32/32 [==============================] - 0s 2ms/step - loss: 308519.5938 - root_mean_squared_error: 333261.0938\n",
            "Epoch 21/100\n",
            "32/32 [==============================] - 0s 2ms/step - loss: 308519.6250 - root_mean_squared_error: 333261.0625\n",
            "Epoch 22/100\n",
            "32/32 [==============================] - 0s 2ms/step - loss: 308519.5938 - root_mean_squared_error: 333261.0312\n",
            "Epoch 23/100\n",
            "32/32 [==============================] - 0s 2ms/step - loss: 308519.5312 - root_mean_squared_error: 333261.0312\n",
            "Epoch 24/100\n",
            "32/32 [==============================] - 0s 2ms/step - loss: 308519.5000 - root_mean_squared_error: 333260.9688\n",
            "Epoch 25/100\n",
            "32/32 [==============================] - 0s 2ms/step - loss: 308519.4688 - root_mean_squared_error: 333260.9688\n",
            "Epoch 26/100\n",
            "32/32 [==============================] - 0s 2ms/step - loss: 308519.4688 - root_mean_squared_error: 333260.9375\n",
            "Epoch 27/100\n",
            "32/32 [==============================] - 0s 2ms/step - loss: 308519.4375 - root_mean_squared_error: 333260.8750\n",
            "Epoch 28/100\n",
            "32/32 [==============================] - 0s 2ms/step - loss: 308519.3125 - root_mean_squared_error: 333260.8750\n",
            "Epoch 29/100\n",
            "32/32 [==============================] - 0s 2ms/step - loss: 308519.2812 - root_mean_squared_error: 333260.8438\n",
            "Epoch 30/100\n",
            "32/32 [==============================] - 0s 2ms/step - loss: 308519.2500 - root_mean_squared_error: 333260.8125\n",
            "Epoch 31/100\n",
            "32/32 [==============================] - 0s 1ms/step - loss: 308519.3125 - root_mean_squared_error: 333260.7812\n",
            "Epoch 32/100\n",
            "32/32 [==============================] - 0s 1ms/step - loss: 308519.2188 - root_mean_squared_error: 333260.7188\n",
            "Epoch 33/100\n",
            "32/32 [==============================] - 0s 1ms/step - loss: 308519.1875 - root_mean_squared_error: 333260.7188\n",
            "Epoch 34/100\n",
            "32/32 [==============================] - 0s 1ms/step - loss: 308519.1875 - root_mean_squared_error: 333260.6875\n",
            "Epoch 35/100\n",
            "32/32 [==============================] - 0s 2ms/step - loss: 308519.1562 - root_mean_squared_error: 333260.6562\n",
            "Epoch 36/100\n",
            "32/32 [==============================] - 0s 2ms/step - loss: 308519.1250 - root_mean_squared_error: 333260.6250\n",
            "Epoch 37/100\n",
            "32/32 [==============================] - 0s 2ms/step - loss: 308519.0312 - root_mean_squared_error: 333260.5938\n",
            "Epoch 38/100\n",
            "32/32 [==============================] - 0s 2ms/step - loss: 308519.0312 - root_mean_squared_error: 333260.5625\n",
            "Epoch 39/100\n",
            "32/32 [==============================] - 0s 2ms/step - loss: 308519.0000 - root_mean_squared_error: 333260.5312\n",
            "Epoch 40/100\n",
            "32/32 [==============================] - 0s 2ms/step - loss: 308518.9688 - root_mean_squared_error: 333260.5000\n",
            "Epoch 41/100\n",
            "32/32 [==============================] - 0s 2ms/step - loss: 308518.9375 - root_mean_squared_error: 333260.5000\n",
            "Epoch 42/100\n",
            "32/32 [==============================] - 0s 3ms/step - loss: 308518.9062 - root_mean_squared_error: 333260.4375\n",
            "Epoch 43/100\n",
            "32/32 [==============================] - 0s 2ms/step - loss: 308518.8750 - root_mean_squared_error: 333260.4062\n",
            "Epoch 44/100\n",
            "32/32 [==============================] - 0s 2ms/step - loss: 308518.8438 - root_mean_squared_error: 333260.3750\n",
            "Epoch 45/100\n",
            "32/32 [==============================] - 0s 2ms/step - loss: 308518.8125 - root_mean_squared_error: 333260.3438\n",
            "Epoch 46/100\n",
            "32/32 [==============================] - 0s 2ms/step - loss: 308518.8125 - root_mean_squared_error: 333260.3438\n",
            "Epoch 47/100\n",
            "32/32 [==============================] - 0s 2ms/step - loss: 308518.7500 - root_mean_squared_error: 333260.2812\n",
            "Epoch 48/100\n",
            "32/32 [==============================] - 0s 1ms/step - loss: 308518.7500 - root_mean_squared_error: 333260.2500\n",
            "Epoch 49/100\n",
            "32/32 [==============================] - 0s 1ms/step - loss: 308518.7188 - root_mean_squared_error: 333260.2500\n",
            "Epoch 50/100\n",
            "32/32 [==============================] - 0s 1ms/step - loss: 308518.6875 - root_mean_squared_error: 333260.2188\n",
            "Epoch 51/100\n",
            "32/32 [==============================] - 0s 2ms/step - loss: 308518.6250 - root_mean_squared_error: 333260.1875\n",
            "Epoch 52/100\n",
            "32/32 [==============================] - 0s 2ms/step - loss: 308518.5625 - root_mean_squared_error: 333260.1250\n",
            "Epoch 53/100\n",
            "32/32 [==============================] - 0s 2ms/step - loss: 308518.5312 - root_mean_squared_error: 333260.1250\n",
            "Epoch 54/100\n",
            "32/32 [==============================] - 0s 2ms/step - loss: 308518.5000 - root_mean_squared_error: 333260.0625\n",
            "Epoch 55/100\n",
            "32/32 [==============================] - 0s 2ms/step - loss: 308518.5000 - root_mean_squared_error: 333260.0625\n",
            "Epoch 56/100\n",
            "32/32 [==============================] - 0s 2ms/step - loss: 308518.4375 - root_mean_squared_error: 333260.0000\n",
            "Epoch 57/100\n",
            "32/32 [==============================] - 0s 2ms/step - loss: 308518.4688 - root_mean_squared_error: 333260.0000\n",
            "Epoch 58/100\n",
            "32/32 [==============================] - 0s 2ms/step - loss: 308518.4375 - root_mean_squared_error: 333259.9688\n",
            "Epoch 59/100\n",
            "32/32 [==============================] - 0s 2ms/step - loss: 308518.3750 - root_mean_squared_error: 333259.9375\n",
            "Epoch 60/100\n",
            "32/32 [==============================] - 0s 2ms/step - loss: 308518.3750 - root_mean_squared_error: 333259.9062\n",
            "Epoch 61/100\n",
            "32/32 [==============================] - 0s 2ms/step - loss: 308518.2812 - root_mean_squared_error: 333259.8438\n",
            "Epoch 62/100\n",
            "32/32 [==============================] - 0s 2ms/step - loss: 308518.2500 - root_mean_squared_error: 333259.8438\n",
            "Epoch 63/100\n",
            "32/32 [==============================] - 0s 2ms/step - loss: 308518.2188 - root_mean_squared_error: 333259.8438\n",
            "Epoch 64/100\n",
            "32/32 [==============================] - 0s 2ms/step - loss: 308518.2188 - root_mean_squared_error: 333259.7812\n",
            "Epoch 65/100\n",
            "32/32 [==============================] - 0s 2ms/step - loss: 308518.1875 - root_mean_squared_error: 333259.7500\n",
            "Epoch 66/100\n",
            "32/32 [==============================] - 0s 2ms/step - loss: 308518.0938 - root_mean_squared_error: 333259.7188\n",
            "Epoch 67/100\n",
            "32/32 [==============================] - 0s 2ms/step - loss: 308518.1875 - root_mean_squared_error: 333259.7188\n",
            "Epoch 68/100\n",
            "32/32 [==============================] - 0s 2ms/step - loss: 308518.0938 - root_mean_squared_error: 333259.6875\n",
            "Epoch 69/100\n",
            "32/32 [==============================] - 0s 2ms/step - loss: 308518.0625 - root_mean_squared_error: 333259.6562\n",
            "Epoch 70/100\n",
            "32/32 [==============================] - 0s 2ms/step - loss: 308517.9688 - root_mean_squared_error: 333259.6250\n",
            "Epoch 71/100\n",
            "32/32 [==============================] - 0s 2ms/step - loss: 308517.9688 - root_mean_squared_error: 333259.5938\n",
            "Epoch 72/100\n",
            "32/32 [==============================] - 0s 2ms/step - loss: 308517.9688 - root_mean_squared_error: 333259.5625\n",
            "Epoch 73/100\n",
            "32/32 [==============================] - 0s 2ms/step - loss: 308517.8438 - root_mean_squared_error: 333259.5000\n",
            "Epoch 74/100\n",
            "32/32 [==============================] - 0s 1ms/step - loss: 308517.8438 - root_mean_squared_error: 333259.5000\n",
            "Epoch 75/100\n",
            "32/32 [==============================] - 0s 2ms/step - loss: 308517.8438 - root_mean_squared_error: 333259.5000\n",
            "Epoch 76/100\n",
            "32/32 [==============================] - 0s 1ms/step - loss: 308517.8125 - root_mean_squared_error: 333259.4375\n",
            "Epoch 77/100\n",
            "32/32 [==============================] - 0s 2ms/step - loss: 308517.7812 - root_mean_squared_error: 333259.3750\n",
            "Epoch 78/100\n",
            "32/32 [==============================] - 0s 2ms/step - loss: 308517.7500 - root_mean_squared_error: 333259.3750\n",
            "Epoch 79/100\n",
            "32/32 [==============================] - 0s 2ms/step - loss: 308517.7188 - root_mean_squared_error: 333259.3438\n",
            "Epoch 80/100\n",
            "32/32 [==============================] - 0s 2ms/step - loss: 308517.7188 - root_mean_squared_error: 333259.3125\n",
            "Epoch 81/100\n",
            "32/32 [==============================] - 0s 2ms/step - loss: 308517.6562 - root_mean_squared_error: 333259.3125\n",
            "Epoch 82/100\n",
            "32/32 [==============================] - 0s 2ms/step - loss: 308517.5938 - root_mean_squared_error: 333259.2500\n",
            "Epoch 83/100\n",
            "32/32 [==============================] - 0s 1ms/step - loss: 308517.5938 - root_mean_squared_error: 333259.2188\n",
            "Epoch 84/100\n",
            "32/32 [==============================] - 0s 2ms/step - loss: 308517.5625 - root_mean_squared_error: 333259.1875\n",
            "Epoch 85/100\n",
            "32/32 [==============================] - 0s 2ms/step - loss: 308517.5312 - root_mean_squared_error: 333259.1562\n",
            "Epoch 86/100\n",
            "32/32 [==============================] - 0s 3ms/step - loss: 308517.5312 - root_mean_squared_error: 333259.1562\n",
            "Epoch 87/100\n",
            "32/32 [==============================] - 0s 3ms/step - loss: 308517.4688 - root_mean_squared_error: 333259.1250\n",
            "Epoch 88/100\n",
            "32/32 [==============================] - 0s 2ms/step - loss: 308517.4688 - root_mean_squared_error: 333259.0625\n",
            "Epoch 89/100\n",
            "32/32 [==============================] - 0s 2ms/step - loss: 308517.4062 - root_mean_squared_error: 333259.0625\n",
            "Epoch 90/100\n",
            "32/32 [==============================] - 0s 2ms/step - loss: 308517.3438 - root_mean_squared_error: 333259.0312\n",
            "Epoch 91/100\n",
            "32/32 [==============================] - 0s 2ms/step - loss: 308517.3750 - root_mean_squared_error: 333259.0000\n",
            "Epoch 92/100\n",
            "32/32 [==============================] - 0s 2ms/step - loss: 308517.3125 - root_mean_squared_error: 333258.9688\n",
            "Epoch 93/100\n",
            "32/32 [==============================] - 0s 2ms/step - loss: 308517.3125 - root_mean_squared_error: 333258.9375\n",
            "Epoch 94/100\n",
            "32/32 [==============================] - 0s 2ms/step - loss: 308517.2500 - root_mean_squared_error: 333258.8750\n",
            "Epoch 95/100\n",
            "32/32 [==============================] - 0s 3ms/step - loss: 308517.2188 - root_mean_squared_error: 333258.8750\n",
            "Epoch 96/100\n",
            "32/32 [==============================] - 0s 2ms/step - loss: 308517.1562 - root_mean_squared_error: 333258.8438\n",
            "Epoch 97/100\n",
            "32/32 [==============================] - 0s 2ms/step - loss: 308517.1875 - root_mean_squared_error: 333258.8125\n",
            "Epoch 98/100\n",
            "32/32 [==============================] - 0s 2ms/step - loss: 308517.0938 - root_mean_squared_error: 333258.7812\n",
            "Epoch 99/100\n",
            "32/32 [==============================] - 0s 2ms/step - loss: 308517.0938 - root_mean_squared_error: 333258.7500\n",
            "Epoch 100/100\n",
            "32/32 [==============================] - 0s 2ms/step - loss: 308517.0312 - root_mean_squared_error: 333258.7188\n"
          ]
        },
        {
          "output_type": "execute_result",
          "data": {
            "text/plain": [
              "<keras.src.callbacks.History at 0x78a6e046cd60>"
            ]
          },
          "metadata": {},
          "execution_count": 17
        }
      ]
    },
    {
      "cell_type": "code",
      "source": [
        "# prompt: plot the loss agains epochs using plot lib\n",
        "\n",
        "\n",
        "history = model.history.history\n",
        "\n",
        "loss = history['loss']\n",
        "\n",
        "epochs = range(1, len(loss) + 1)\n",
        "\n",
        "plt.plot(epochs, loss, label='Training loss')\n",
        "\n",
        "plt.xlabel('Epochs')\n",
        "\n",
        "plt.ylabel('Loss')\n",
        "\n",
        "plt.title('Training loss plot')\n",
        "\n",
        "plt.legend()\n",
        "\n",
        "plt.show()\n"
      ],
      "metadata": {
        "colab": {
          "base_uri": "https://localhost:8080/",
          "height": 472
        },
        "id": "HtjmLR45e9u-",
        "outputId": "f641c88b-9ceb-4c1b-f7dd-34aa78606c4f"
      },
      "execution_count": 21,
      "outputs": [
        {
          "output_type": "display_data",
          "data": {
            "text/plain": [
              "<Figure size 640x480 with 1 Axes>"
            ],
            "image/png": "[encoded data removed]"
          },
          "metadata": {}
        }
      ]
    },
    {
      "cell_type": "code",
      "source": [
        "# prompt: plot the loss agains epochs using plot lib\n",
        "\n",
        "history = model.history.history\n",
        "\n",
        "rmse = history['root_mean_squared_error']\n",
        "\n",
        "epochs = range(1, len(rmse) + 1)\n",
        "\n",
        "plt.plot(epochs, rmse, label='Training rmse')\n",
        "\n",
        "plt.xlabel('Epochs')\n",
        "\n",
        "plt.ylabel('rmse')\n",
        "\n",
        "plt.title('Training rmse plot')\n",
        "\n",
        "plt.legend()\n",
        "\n",
        "plt.show()\n"
      ],
      "metadata": {
        "colab": {
          "base_uri": "https://localhost:8080/",
          "height": 472
        },
        "id": "_hTizTNSfi5n",
        "outputId": "2bc20384-5db8-4edc-a104-a67e3a7b453f"
      },
      "execution_count": 27,
      "outputs": [
        {
          "output_type": "display_data",
          "data": {
            "text/plain": [
              "<Figure size 640x480 with 1 Axes>"
            ],
            "image/png": "[encoded data removed]"
          },
          "metadata": {}
        }
      ]
    },
    {
      "cell_type": "code",
      "source": [
        "model.evaluate(x, y)\n",
        "# 5:45"
      ],
      "metadata": {
        "colab": {
          "base_uri": "https://localhost:8080/"
        },
        "id": "TgskO8I5j03J",
        "outputId": "bc7d135c-14a7-45c7-d897-7db1393f9c58"
      },
      "execution_count": 28,
      "outputs": [
        {
          "output_type": "stream",
          "name": "stdout",
          "text": [
            "32/32 [==============================] - 0s 2ms/step - loss: 308517.0312 - root_mean_squared_error: 333258.7500\n"
          ]
        },
        {
          "output_type": "execute_result",
          "data": {
            "text/plain": [
              "[308517.03125, 333258.75]"
            ]
          },
          "metadata": {},
          "execution_count": 28
        }
      ]
    }
  ]
}