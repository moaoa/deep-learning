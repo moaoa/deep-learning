{
  "nbformat": 4,
  "nbformat_minor": 0,
  "metadata": {
    "colab": {
      "provenance": [],
      "include_colab_link": true
    },
    "kernelspec": {
      "name": "python3",
      "display_name": "Python 3"
    },
    "language_info": {
      "name": "python"
    }
  },
  "cells": [
    {
      "cell_type": "markdown",
      "metadata": {
        "id": "view-in-github",
        "colab_type": "text"
      },
      "source": [
        "<a href=\"https://colab.research.google.com/github/moaoa/deep-learning/blob/main/main.ipynb\" target=\"_parent\"><img src=\"https://colab.research.google.com/assets/colab-badge.svg\" alt=\"Open In Colab\"/></a>"
      ]
    },
    {
      "cell_type": "code",
      "execution_count": 159,
      "metadata": {
        "colab": {
          "base_uri": "https://localhost:8080/"
        },
        "id": "jMIA8incGkMe",
        "outputId": "f93eebf8-83e7-4b60-aff5-8cc3f183fc71"
      },
      "outputs": [
        {
          "output_type": "stream",
          "name": "stdout",
          "text": [
            "Requirement already satisfied: pandas in /usr/local/lib/python3.10/dist-packages (2.0.3)\n",
            "Requirement already satisfied: python-dateutil>=2.8.2 in /usr/local/lib/python3.10/dist-packages (from pandas) (2.8.2)\n",
            "Requirement already satisfied: pytz>=2020.1 in /usr/local/lib/python3.10/dist-packages (from pandas) (2023.4)\n",
            "Requirement already satisfied: tzdata>=2022.1 in /usr/local/lib/python3.10/dist-packages (from pandas) (2024.1)\n",
            "Requirement already satisfied: numpy>=1.21.0 in /usr/local/lib/python3.10/dist-packages (from pandas) (1.25.2)\n",
            "Requirement already satisfied: six>=1.5 in /usr/local/lib/python3.10/dist-packages (from python-dateutil>=2.8.2->pandas) (1.16.0)\n",
            "Requirement already satisfied: tensorflow in /usr/local/lib/python3.10/dist-packages (2.15.0)\n",
            "Requirement already satisfied: absl-py>=1.0.0 in /usr/local/lib/python3.10/dist-packages (from tensorflow) (1.4.0)\n",
            "Requirement already satisfied: astunparse>=1.6.0 in /usr/local/lib/python3.10/dist-packages (from tensorflow) (1.6.3)\n",
            "Requirement already satisfied: flatbuffers>=23.5.26 in /usr/local/lib/python3.10/dist-packages (from tensorflow) (24.3.25)\n",
            "Requirement already satisfied: gast!=0.5.0,!=0.5.1,!=0.5.2,>=0.2.1 in /usr/local/lib/python3.10/dist-packages (from tensorflow) (0.5.4)\n",
            "Requirement already satisfied: google-pasta>=0.1.1 in /usr/local/lib/python3.10/dist-packages (from tensorflow) (0.2.0)\n",
            "Requirement already satisfied: h5py>=2.9.0 in /usr/local/lib/python3.10/dist-packages (from tensorflow) (3.9.0)\n",
            "Requirement already satisfied: libclang>=13.0.0 in /usr/local/lib/python3.10/dist-packages (from tensorflow) (18.1.1)\n",
            "Requirement already satisfied: ml-dtypes~=0.2.0 in /usr/local/lib/python3.10/dist-packages (from tensorflow) (0.2.0)\n",
            "Requirement already satisfied: numpy<2.0.0,>=1.23.5 in /usr/local/lib/python3.10/dist-packages (from tensorflow) (1.25.2)\n",
            "Requirement already satisfied: opt-einsum>=2.3.2 in /usr/local/lib/python3.10/dist-packages (from tensorflow) (3.3.0)\n",
            "Requirement already satisfied: packaging in /usr/local/lib/python3.10/dist-packages (from tensorflow) (24.0)\n",
            "Requirement already satisfied: protobuf!=4.21.0,!=4.21.1,!=4.21.2,!=4.21.3,!=4.21.4,!=4.21.5,<5.0.0dev,>=3.20.3 in /usr/local/lib/python3.10/dist-packages (from tensorflow) (3.20.3)\n",
            "Requirement already satisfied: setuptools in /usr/local/lib/python3.10/dist-packages (from tensorflow) (67.7.2)\n",
            "Requirement already satisfied: six>=1.12.0 in /usr/local/lib/python3.10/dist-packages (from tensorflow) (1.16.0)\n",
            "Requirement already satisfied: termcolor>=1.1.0 in /usr/local/lib/python3.10/dist-packages (from tensorflow) (2.4.0)\n",
            "Requirement already satisfied: typing-extensions>=3.6.6 in /usr/local/lib/python3.10/dist-packages (from tensorflow) (4.12.1)\n",
            "Requirement already satisfied: wrapt<1.15,>=1.11.0 in /usr/local/lib/python3.10/dist-packages (from tensorflow) (1.14.1)\n",
            "Requirement already satisfied: tensorflow-io-gcs-filesystem>=0.23.1 in /usr/local/lib/python3.10/dist-packages (from tensorflow) (0.37.0)\n",
            "Requirement already satisfied: grpcio<2.0,>=1.24.3 in /usr/local/lib/python3.10/dist-packages (from tensorflow) (1.64.1)\n",
            "Requirement already satisfied: tensorboard<2.16,>=2.15 in /usr/local/lib/python3.10/dist-packages (from tensorflow) (2.15.2)\n",
            "Requirement already satisfied: tensorflow-estimator<2.16,>=2.15.0 in /usr/local/lib/python3.10/dist-packages (from tensorflow) (2.15.0)\n",
            "Requirement already satisfied: keras<2.16,>=2.15.0 in /usr/local/lib/python3.10/dist-packages (from tensorflow) (2.15.0)\n",
            "Requirement already satisfied: wheel<1.0,>=0.23.0 in /usr/local/lib/python3.10/dist-packages (from astunparse>=1.6.0->tensorflow) (0.43.0)\n",
            "Requirement already satisfied: google-auth<3,>=1.6.3 in /usr/local/lib/python3.10/dist-packages (from tensorboard<2.16,>=2.15->tensorflow) (2.27.0)\n",
            "Requirement already satisfied: google-auth-oauthlib<2,>=0.5 in /usr/local/lib/python3.10/dist-packages (from tensorboard<2.16,>=2.15->tensorflow) (1.2.0)\n",
            "Requirement already satisfied: markdown>=2.6.8 in /usr/local/lib/python3.10/dist-packages (from tensorboard<2.16,>=2.15->tensorflow) (3.6)\n",
            "Requirement already satisfied: requests<3,>=2.21.0 in /usr/local/lib/python3.10/dist-packages (from tensorboard<2.16,>=2.15->tensorflow) (2.31.0)\n",
            "Requirement already satisfied: tensorboard-data-server<0.8.0,>=0.7.0 in /usr/local/lib/python3.10/dist-packages (from tensorboard<2.16,>=2.15->tensorflow) (0.7.2)\n",
            "Requirement already satisfied: werkzeug>=1.0.1 in /usr/local/lib/python3.10/dist-packages (from tensorboard<2.16,>=2.15->tensorflow) (3.0.3)\n",
            "Requirement already satisfied: cachetools<6.0,>=2.0.0 in /usr/local/lib/python3.10/dist-packages (from google-auth<3,>=1.6.3->tensorboard<2.16,>=2.15->tensorflow) (5.3.3)\n",
            "Requirement already satisfied: pyasn1-modules>=0.2.1 in /usr/local/lib/python3.10/dist-packages (from google-auth<3,>=1.6.3->tensorboard<2.16,>=2.15->tensorflow) (0.4.0)\n",
            "Requirement already satisfied: rsa<5,>=3.1.4 in /usr/local/lib/python3.10/dist-packages (from google-auth<3,>=1.6.3->tensorboard<2.16,>=2.15->tensorflow) (4.9)\n",
            "Requirement already satisfied: requests-oauthlib>=0.7.0 in /usr/local/lib/python3.10/dist-packages (from google-auth-oauthlib<2,>=0.5->tensorboard<2.16,>=2.15->tensorflow) (1.3.1)\n",
            "Requirement already satisfied: charset-normalizer<4,>=2 in /usr/local/lib/python3.10/dist-packages (from requests<3,>=2.21.0->tensorboard<2.16,>=2.15->tensorflow) (3.3.2)\n",
            "Requirement already satisfied: idna<4,>=2.5 in /usr/local/lib/python3.10/dist-packages (from requests<3,>=2.21.0->tensorboard<2.16,>=2.15->tensorflow) (3.7)\n",
            "Requirement already satisfied: urllib3<3,>=1.21.1 in /usr/local/lib/python3.10/dist-packages (from requests<3,>=2.21.0->tensorboard<2.16,>=2.15->tensorflow) (2.0.7)\n",
            "Requirement already satisfied: certifi>=2017.4.17 in /usr/local/lib/python3.10/dist-packages (from requests<3,>=2.21.0->tensorboard<2.16,>=2.15->tensorflow) (2024.6.2)\n",
            "Requirement already satisfied: MarkupSafe>=2.1.1 in /usr/local/lib/python3.10/dist-packages (from werkzeug>=1.0.1->tensorboard<2.16,>=2.15->tensorflow) (2.1.5)\n",
            "Requirement already satisfied: pyasn1<0.7.0,>=0.4.6 in /usr/local/lib/python3.10/dist-packages (from pyasn1-modules>=0.2.1->google-auth<3,>=1.6.3->tensorboard<2.16,>=2.15->tensorflow) (0.6.0)\n",
            "Requirement already satisfied: oauthlib>=3.0.0 in /usr/local/lib/python3.10/dist-packages (from requests-oauthlib>=0.7.0->google-auth-oauthlib<2,>=0.5->tensorboard<2.16,>=2.15->tensorflow) (3.2.2)\n",
            "Requirement already satisfied: seaborn in /usr/local/lib/python3.10/dist-packages (0.13.1)\n",
            "Requirement already satisfied: numpy!=1.24.0,>=1.20 in /usr/local/lib/python3.10/dist-packages (from seaborn) (1.25.2)\n",
            "Requirement already satisfied: pandas>=1.2 in /usr/local/lib/python3.10/dist-packages (from seaborn) (2.0.3)\n",
            "Requirement already satisfied: matplotlib!=3.6.1,>=3.4 in /usr/local/lib/python3.10/dist-packages (from seaborn) (3.7.1)\n",
            "Requirement already satisfied: contourpy>=1.0.1 in /usr/local/lib/python3.10/dist-packages (from matplotlib!=3.6.1,>=3.4->seaborn) (1.2.1)\n",
            "Requirement already satisfied: cycler>=0.10 in /usr/local/lib/python3.10/dist-packages (from matplotlib!=3.6.1,>=3.4->seaborn) (0.12.1)\n",
            "Requirement already satisfied: fonttools>=4.22.0 in /usr/local/lib/python3.10/dist-packages (from matplotlib!=3.6.1,>=3.4->seaborn) (4.53.0)\n",
            "Requirement already satisfied: kiwisolver>=1.0.1 in /usr/local/lib/python3.10/dist-packages (from matplotlib!=3.6.1,>=3.4->seaborn) (1.4.5)\n",
            "Requirement already satisfied: packaging>=20.0 in /usr/local/lib/python3.10/dist-packages (from matplotlib!=3.6.1,>=3.4->seaborn) (24.0)\n",
            "Requirement already satisfied: pillow>=6.2.0 in /usr/local/lib/python3.10/dist-packages (from matplotlib!=3.6.1,>=3.4->seaborn) (9.4.0)\n",
            "Requirement already satisfied: pyparsing>=2.3.1 in /usr/local/lib/python3.10/dist-packages (from matplotlib!=3.6.1,>=3.4->seaborn) (3.1.2)\n",
            "Requirement already satisfied: python-dateutil>=2.7 in /usr/local/lib/python3.10/dist-packages (from matplotlib!=3.6.1,>=3.4->seaborn) (2.8.2)\n",
            "Requirement already satisfied: pytz>=2020.1 in /usr/local/lib/python3.10/dist-packages (from pandas>=1.2->seaborn) (2023.4)\n",
            "Requirement already satisfied: tzdata>=2022.1 in /usr/local/lib/python3.10/dist-packages (from pandas>=1.2->seaborn) (2024.1)\n",
            "Requirement already satisfied: six>=1.5 in /usr/local/lib/python3.10/dist-packages (from python-dateutil>=2.7->matplotlib!=3.6.1,>=3.4->seaborn) (1.16.0)\n"
          ]
        }
      ],
      "source": [
        "# prompt: install pandas and tensorflow and seaborn and import them\n",
        "\n",
        "!pip install pandas\n",
        "!pip install tensorflow\n",
        "!pip install seaborn\n",
        "\n",
        "import pandas as pd\n",
        "import tensorflow as tf\n",
        "import seaborn as sns\n",
        "from tensorflow.keras.layers import Normalization, Dense, InputLayer\n",
        "from tensorflow.keras.losses import MeanSquaredError, Huber, MeanAbsoluteError\n",
        "from tensorflow.keras.optimizers import Adam\n",
        "from tensorflow.keras.metrics import RootMeanSquaredError\n",
        "import matplotlib.pyplot as plt\n",
        "import numpy as np\n",
        "\n",
        "\n",
        "\n"
      ]
    },
    {
      "cell_type": "code",
      "source": [
        "\n",
        "# Read the data from the CSV file\n",
        "df = pd.read_csv(\"train.csv\")\n",
        "\n",
        "# Display the data\n",
        "print(df.head())\n"
      ],
      "metadata": {
        "colab": {
          "base_uri": "https://localhost:8080/"
        },
        "id": "NHiivBUZPE1r",
        "outputId": "ae6ff592-4a49-40b2-a98a-fa603f44137e"
      },
      "execution_count": 142,
      "outputs": [
        {
          "output_type": "stream",
          "name": "stdout",
          "text": [
            "   v.id  on road old  on road now  years      km  rating  condition  economy  \\\n",
            "0     1       535651       798186      3   78945       1          2       14   \n",
            "1     2       591911       861056      6  117220       5          9        9   \n",
            "2     3       686990       770762      2  132538       2          8       15   \n",
            "3     4       573999       722381      4  101065       4          3       11   \n",
            "4     5       691388       811335      6   61559       3          9       12   \n",
            "\n",
            "   top speed  hp  torque  current price  \n",
            "0        177  73     123       351318.0  \n",
            "1        148  74      95       285001.5  \n",
            "2        181  53      97       215386.0  \n",
            "3        197  54     116       244295.5  \n",
            "4        160  53     105       531114.5  \n"
          ]
        }
      ]
    },
    {
      "cell_type": "code",
      "source": [
        "# prompt: using the seaborn lib use the methdo show pair to show the data\n",
        "\n",
        "# sns.pairplot(df, diag_kind='kde')\n"
      ],
      "metadata": {
        "id": "trMZLoUsPVqK"
      },
      "execution_count": 143,
      "outputs": []
    },
    {
      "cell_type": "code",
      "source": [
        "tensor_df = tf.convert_to_tensor(df, tf.float32)\n",
        "\n",
        "print(tensor_df)"
      ],
      "metadata": {
        "colab": {
          "base_uri": "https://localhost:8080/"
        },
        "id": "OjUoTtmHVZno",
        "outputId": "348aa868-d134-452e-b52c-2eb3aec2bfeb"
      },
      "execution_count": 144,
      "outputs": [
        {
          "output_type": "stream",
          "name": "stdout",
          "text": [
            "tf.Tensor(\n",
            "[[1.000000e+00 5.356510e+05 7.981860e+05 ... 7.300000e+01 1.230000e+02\n",
            "  3.513180e+05]\n",
            " [2.000000e+00 5.919110e+05 8.610560e+05 ... 7.400000e+01 9.500000e+01\n",
            "  2.850015e+05]\n",
            " [3.000000e+00 6.869900e+05 7.707620e+05 ... 5.300000e+01 9.700000e+01\n",
            "  2.153860e+05]\n",
            " ...\n",
            " [9.980000e+02 6.463440e+05 8.427330e+05 ... 1.130000e+02 8.900000e+01\n",
            "  4.058710e+05]\n",
            " [9.990000e+02 5.355590e+05 7.324390e+05 ... 1.120000e+02 1.280000e+02\n",
            "  7.439800e+04]\n",
            " [1.000000e+03 5.901050e+05 7.797430e+05 ... 9.900000e+01 9.600000e+01\n",
            "  4.149385e+05]], shape=(1000, 12), dtype=float32)\n"
          ]
        }
      ]
    },
    {
      "cell_type": "code",
      "source": [
        "x = tensor_df[:, 3:-1]\n",
        "\n",
        "print(x[:8])"
      ],
      "metadata": {
        "colab": {
          "base_uri": "https://localhost:8080/"
        },
        "id": "mxiOcC0EdlEG",
        "outputId": "acddc1c8-9db1-4366-d183-ba8940ef00b0"
      },
      "execution_count": 145,
      "outputs": [
        {
          "output_type": "stream",
          "name": "stdout",
          "text": [
            "tf.Tensor(\n",
            "[[3.00000e+00 7.89450e+04 1.00000e+00 2.00000e+00 1.40000e+01 1.77000e+02\n",
            "  7.30000e+01 1.23000e+02]\n",
            " [6.00000e+00 1.17220e+05 5.00000e+00 9.00000e+00 9.00000e+00 1.48000e+02\n",
            "  7.40000e+01 9.50000e+01]\n",
            " [2.00000e+00 1.32538e+05 2.00000e+00 8.00000e+00 1.50000e+01 1.81000e+02\n",
            "  5.30000e+01 9.70000e+01]\n",
            " [4.00000e+00 1.01065e+05 4.00000e+00 3.00000e+00 1.10000e+01 1.97000e+02\n",
            "  5.40000e+01 1.16000e+02]\n",
            " [6.00000e+00 6.15590e+04 3.00000e+00 9.00000e+00 1.20000e+01 1.60000e+02\n",
            "  5.30000e+01 1.05000e+02]\n",
            " [6.00000e+00 1.48846e+05 2.00000e+00 9.00000e+00 1.30000e+01 1.38000e+02\n",
            "  6.10000e+01 1.09000e+02]\n",
            " [5.00000e+00 7.80250e+04 1.00000e+00 9.00000e+00 1.50000e+01 1.71000e+02\n",
            "  9.40000e+01 1.32000e+02]\n",
            " [6.00000e+00 7.65460e+04 1.00000e+00 2.00000e+00 1.20000e+01 1.46000e+02\n",
            "  1.09000e+02 9.60000e+01]], shape=(8, 8), dtype=float32)\n"
          ]
        }
      ]
    },
    {
      "cell_type": "code",
      "source": [
        "y = tf.expand_dims(tensor_df[:, -1], axis=-1)\n",
        "\n",
        "print(y[:8])"
      ],
      "metadata": {
        "colab": {
          "base_uri": "https://localhost:8080/"
        },
        "id": "eemLrK8QeQrT",
        "outputId": "d49915de-3b90-4741-9937-46ba0d6a54bf"
      },
      "execution_count": 146,
      "outputs": [
        {
          "output_type": "stream",
          "name": "stdout",
          "text": [
            "tf.Tensor(\n",
            "[[351318. ]\n",
            " [285001.5]\n",
            " [215386. ]\n",
            " [244295.5]\n",
            " [531114.5]\n",
            " [177933.5]\n",
            " [410877. ]\n",
            " [467471.5]], shape=(8, 1), dtype=float32)\n"
          ]
        }
      ]
    },
    {
      "cell_type": "code",
      "source": [
        "TRAIN_RATIO = 0.8\n",
        "VAL_RATIO = 0.1\n",
        "TEST_RATIO = 0.1\n",
        "DATASET_SIZE = len(x)\n",
        "\n",
        "print(f\"Total dataset size: {DATASET_SIZE}\")\n",
        "\n",
        "# Calculate split indices\n",
        "train_end = int(DATASET_SIZE * TRAIN_RATIO)\n",
        "val_end = train_end + int(DATASET_SIZE * VAL_RATIO)\n",
        "\n",
        "# Splitting the data\n",
        "X_train = x[:train_end]\n",
        "Y_train = y[:train_end]\n",
        "\n",
        "print(f\"Training set size: {len(X_train)}\")\n",
        "\n",
        "X_val = x[train_end:val_end]\n",
        "Y_val = y[train_end:val_end]\n",
        "\n",
        "print(f\"Validation set size: {len(X_val)}\")\n",
        "\n",
        "X_test = x[val_end:]\n",
        "Y_test = y[val_end:]\n",
        "\n",
        "print(f\"Test set size: {len(X_test)}\")\n"
      ],
      "metadata": {
        "colab": {
          "base_uri": "https://localhost:8080/"
        },
        "id": "C4lwogjvHWpt",
        "outputId": "7ef13a0b-864e-4d71-e109-6c148c67c9c2"
      },
      "execution_count": 147,
      "outputs": [
        {
          "output_type": "stream",
          "name": "stdout",
          "text": [
            "Total dataset size: 1000\n",
            "Training set size: 800\n",
            "Validation set size: 100\n",
            "Test set size: 100\n"
          ]
        }
      ]
    },
    {
      "cell_type": "code",
      "source": [
        "normalizer = Normalization(axis=-1)\n",
        "\n",
        "# x_normalized = tf.constant([\n",
        "#         [3, 2, 5, 6, 7, 2, 5, 1],\n",
        "#         [3, 4, 5, 6, 4, 2, 5, 1],\n",
        "#         [4, 7, 6, 2, 8, 2, 5, 1]\n",
        "#       ])\n",
        "\n",
        "normalizer.adapt(X_train)\n",
        "\n",
        "print(normalizer(X_train))"
      ],
      "metadata": {
        "colab": {
          "base_uri": "https://localhost:8080/"
        },
        "id": "vGc2PX6d8WCm",
        "outputId": "00cfa572-5798-4683-9341-9102303b7ebe"
      },
      "execution_count": 148,
      "outputs": [
        {
          "output_type": "stream",
          "name": "stdout",
          "text": [
            "tf.Tensor(\n",
            "[[-0.9117587  -0.6980475  -1.4046502  ...  0.51316994 -0.5755059\n",
            "   0.9342201 ]\n",
            " [ 0.8304557   0.6154479   1.3976449  ... -0.9875903  -0.526438\n",
            "  -0.38756672]\n",
            " [-1.4924968   1.1411206  -0.7040764  ...  0.72017133 -1.5568651\n",
            "  -0.29315338]\n",
            " ...\n",
            " [ 0.8304557  -0.65981805 -0.7040764  ... -0.5218371  -1.5077971\n",
            "  -0.9068401 ]\n",
            " [ 0.8304557   1.64761     1.3976449  ... -0.5735875   1.2890766\n",
            "   0.60377336]\n",
            " [-0.9117587  -0.08586086 -0.00350262 ... -1.1428413   0.40585324\n",
            "   0.9814267 ]], shape=(800, 8), dtype=float32)\n"
          ]
        }
      ]
    },
    {
      "cell_type": "code",
      "source": [
        "model = tf.keras.Sequential([\n",
        "    InputLayer(input_shape=(8, )),\n",
        "    normalizer,\n",
        "    Dense(1)\n",
        "])\n",
        "\n",
        "model.summary()"
      ],
      "metadata": {
        "id": "xfqm7TGT9bzr",
        "outputId": "e2dbdcf3-5830-4af5-83ed-cf41bf616973",
        "colab": {
          "base_uri": "https://localhost:8080/"
        }
      },
      "execution_count": 149,
      "outputs": [
        {
          "output_type": "stream",
          "name": "stdout",
          "text": [
            "Model: \"sequential_8\"\n",
            "_________________________________________________________________\n",
            " Layer (type)                Output Shape              Param #   \n",
            "=================================================================\n",
            " normalization_9 (Normaliza  (None, 8)                 17        \n",
            " tion)                                                           \n",
            "                                                                 \n",
            " dense_8 (Dense)             (None, 1)                 9         \n",
            "                                                                 \n",
            "=================================================================\n",
            "Total params: 26 (108.00 Byte)\n",
            "Trainable params: 9 (36.00 Byte)\n",
            "Non-trainable params: 17 (72.00 Byte)\n",
            "_________________________________________________________________\n"
          ]
        }
      ]
    },
    {
      "cell_type": "code",
      "source": [
        "tf.keras.utils.plot_model(model, to_file=\"model.png\", show_shapes=True)"
      ],
      "metadata": {
        "id": "lsSUGl41DpPj",
        "outputId": "c52efc5a-570a-49ad-a4d3-1c2bca04e3a6",
        "colab": {
          "base_uri": "https://localhost:8080/",
          "height": 312
        }
      },
      "execution_count": 150,
      "outputs": [
        {
          "output_type": "execute_result",
          "data": {
            "image/png": "[encoded data removed]",
            "text/plain": [
              "<IPython.core.display.Image object>"
            ]
          },
          "metadata": {},
          "execution_count": 150
        }
      ]
    },
    {
      "cell_type": "code",
      "source": [
        "model.compile(optimizer=Adam(), loss = MeanAbsoluteError(), metrics=[RootMeanSquaredError()])\n",
        "\n",
        "model.fit(X_train, Y_train, validation_data=(X_val, Y_val), epochs=100)"
      ],
      "metadata": {
        "id": "_X30gqwRD0in",
        "colab": {
          "base_uri": "https://localhost:8080/"
        },
        "outputId": "21d69e6b-afdb-478f-8901-cb11961dd1ad"
      },
      "execution_count": 151,
      "outputs": [
        {
          "output_type": "stream",
          "name": "stdout",
          "text": [
            "Epoch 1/100\n",
            "25/25 [==============================] - 1s 28ms/step - loss: 313282.1562 - root_mean_squared_error: 337791.7188 - val_loss: 273466.8125 - val_root_mean_squared_error: 300014.8125\n",
            "Epoch 2/100\n",
            "25/25 [==============================] - 0s 8ms/step - loss: 313282.1250 - root_mean_squared_error: 337791.7188 - val_loss: 273466.7812 - val_root_mean_squared_error: 300014.7812\n",
            "Epoch 3/100\n",
            "25/25 [==============================] - 0s 10ms/step - loss: 313282.1250 - root_mean_squared_error: 337791.6875 - val_loss: 273466.7500 - val_root_mean_squared_error: 300014.7500\n",
            "Epoch 4/100\n",
            "25/25 [==============================] - 0s 5ms/step - loss: 313282.1250 - root_mean_squared_error: 337791.6875 - val_loss: 273466.7188 - val_root_mean_squared_error: 300014.7188\n",
            "Epoch 5/100\n",
            "25/25 [==============================] - 0s 5ms/step - loss: 313282.0625 - root_mean_squared_error: 337791.6562 - val_loss: 273466.7188 - val_root_mean_squared_error: 300014.7188\n",
            "Epoch 6/100\n",
            "25/25 [==============================] - 0s 5ms/step - loss: 313282.0000 - root_mean_squared_error: 337791.6250 - val_loss: 273466.6875 - val_root_mean_squared_error: 300014.6875\n",
            "Epoch 7/100\n",
            "25/25 [==============================] - 0s 5ms/step - loss: 313282.0000 - root_mean_squared_error: 337791.6250 - val_loss: 273466.6562 - val_root_mean_squared_error: 300014.6562\n",
            "Epoch 8/100\n",
            "25/25 [==============================] - 0s 5ms/step - loss: 313282.0000 - root_mean_squared_error: 337791.5625 - val_loss: 273466.6250 - val_root_mean_squared_error: 300014.6250\n",
            "Epoch 9/100\n",
            "25/25 [==============================] - 0s 4ms/step - loss: 313281.9375 - root_mean_squared_error: 337791.5625 - val_loss: 273466.5938 - val_root_mean_squared_error: 300014.5938\n",
            "Epoch 10/100\n",
            "25/25 [==============================] - 0s 5ms/step - loss: 313281.9062 - root_mean_squared_error: 337791.5312 - val_loss: 273466.5938 - val_root_mean_squared_error: 300014.5938\n",
            "Epoch 11/100\n",
            "25/25 [==============================] - 0s 8ms/step - loss: 313281.9062 - root_mean_squared_error: 337791.5000 - val_loss: 273466.5625 - val_root_mean_squared_error: 300014.5938\n",
            "Epoch 12/100\n",
            "25/25 [==============================] - 0s 8ms/step - loss: 313281.8438 - root_mean_squared_error: 337791.4688 - val_loss: 273466.5312 - val_root_mean_squared_error: 300014.5625\n",
            "Epoch 13/100\n",
            "25/25 [==============================] - 0s 8ms/step - loss: 313281.8750 - root_mean_squared_error: 337791.4375 - val_loss: 273466.5312 - val_root_mean_squared_error: 300014.5312\n",
            "Epoch 14/100\n",
            "25/25 [==============================] - 0s 7ms/step - loss: 313281.8438 - root_mean_squared_error: 337791.4688 - val_loss: 273466.4688 - val_root_mean_squared_error: 300014.4688\n",
            "Epoch 15/100\n",
            "25/25 [==============================] - 0s 5ms/step - loss: 313281.8125 - root_mean_squared_error: 337791.4062 - val_loss: 273466.4688 - val_root_mean_squared_error: 300014.4688\n",
            "Epoch 16/100\n",
            "25/25 [==============================] - 0s 5ms/step - loss: 313281.7812 - root_mean_squared_error: 337791.3750 - val_loss: 273466.4375 - val_root_mean_squared_error: 300014.4688\n",
            "Epoch 17/100\n",
            "25/25 [==============================] - 0s 5ms/step - loss: 313281.7812 - root_mean_squared_error: 337791.3438 - val_loss: 273466.4062 - val_root_mean_squared_error: 300014.4375\n",
            "Epoch 18/100\n",
            "25/25 [==============================] - 0s 5ms/step - loss: 313281.7188 - root_mean_squared_error: 337791.3438 - val_loss: 273466.3750 - val_root_mean_squared_error: 300014.4062\n",
            "Epoch 19/100\n",
            "25/25 [==============================] - 0s 5ms/step - loss: 313281.6875 - root_mean_squared_error: 337791.3125 - val_loss: 273466.3750 - val_root_mean_squared_error: 300014.3750\n",
            "Epoch 20/100\n",
            "25/25 [==============================] - 0s 5ms/step - loss: 313281.7500 - root_mean_squared_error: 337791.2812 - val_loss: 273466.3438 - val_root_mean_squared_error: 300014.3750\n",
            "Epoch 21/100\n",
            "25/25 [==============================] - 0s 4ms/step - loss: 313281.6562 - root_mean_squared_error: 337791.2812 - val_loss: 273466.3125 - val_root_mean_squared_error: 300014.3438\n",
            "Epoch 22/100\n",
            "25/25 [==============================] - 0s 5ms/step - loss: 313281.6250 - root_mean_squared_error: 337791.2500 - val_loss: 273466.2812 - val_root_mean_squared_error: 300014.3125\n",
            "Epoch 23/100\n",
            "25/25 [==============================] - 0s 7ms/step - loss: 313281.5938 - root_mean_squared_error: 337791.2188 - val_loss: 273466.2500 - val_root_mean_squared_error: 300014.2812\n",
            "Epoch 24/100\n",
            "25/25 [==============================] - 0s 5ms/step - loss: 313281.5312 - root_mean_squared_error: 337791.2188 - val_loss: 273466.2188 - val_root_mean_squared_error: 300014.2812\n",
            "Epoch 25/100\n",
            "25/25 [==============================] - 0s 5ms/step - loss: 313281.5938 - root_mean_squared_error: 337791.1875 - val_loss: 273466.2188 - val_root_mean_squared_error: 300014.2500\n",
            "Epoch 26/100\n",
            "25/25 [==============================] - 0s 12ms/step - loss: 313281.5312 - root_mean_squared_error: 337791.1562 - val_loss: 273466.1875 - val_root_mean_squared_error: 300014.2188\n",
            "Epoch 27/100\n",
            "25/25 [==============================] - 0s 5ms/step - loss: 313281.4688 - root_mean_squared_error: 337791.1250 - val_loss: 273466.1562 - val_root_mean_squared_error: 300014.2188\n",
            "Epoch 28/100\n",
            "25/25 [==============================] - 0s 7ms/step - loss: 313281.5312 - root_mean_squared_error: 337791.0938 - val_loss: 273466.1250 - val_root_mean_squared_error: 300014.1875\n",
            "Epoch 29/100\n",
            "25/25 [==============================] - 0s 7ms/step - loss: 313281.4688 - root_mean_squared_error: 337791.0938 - val_loss: 273466.0938 - val_root_mean_squared_error: 300014.1562\n",
            "Epoch 30/100\n",
            "25/25 [==============================] - 0s 8ms/step - loss: 313281.4688 - root_mean_squared_error: 337791.0938 - val_loss: 273466.0938 - val_root_mean_squared_error: 300014.1562\n",
            "Epoch 31/100\n",
            "25/25 [==============================] - 0s 5ms/step - loss: 313281.4062 - root_mean_squared_error: 337791.0312 - val_loss: 273466.0625 - val_root_mean_squared_error: 300014.0938\n",
            "Epoch 32/100\n",
            "25/25 [==============================] - 0s 5ms/step - loss: 313281.4062 - root_mean_squared_error: 337791.0312 - val_loss: 273466.0312 - val_root_mean_squared_error: 300014.0938\n",
            "Epoch 33/100\n",
            "25/25 [==============================] - 0s 6ms/step - loss: 313281.3750 - root_mean_squared_error: 337790.9688 - val_loss: 273466.0312 - val_root_mean_squared_error: 300014.0625\n",
            "Epoch 34/100\n",
            "25/25 [==============================] - 0s 9ms/step - loss: 313281.3750 - root_mean_squared_error: 337790.9688 - val_loss: 273465.9688 - val_root_mean_squared_error: 300014.0312\n",
            "Epoch 35/100\n",
            "25/25 [==============================] - 0s 11ms/step - loss: 313281.3125 - root_mean_squared_error: 337790.9688 - val_loss: 273465.9688 - val_root_mean_squared_error: 300014.0312\n",
            "Epoch 36/100\n",
            "25/25 [==============================] - 0s 5ms/step - loss: 313281.3125 - root_mean_squared_error: 337790.9062 - val_loss: 273465.9375 - val_root_mean_squared_error: 300014.0000\n",
            "Epoch 37/100\n",
            "25/25 [==============================] - 0s 6ms/step - loss: 313281.2500 - root_mean_squared_error: 337790.9062 - val_loss: 273465.9062 - val_root_mean_squared_error: 300013.9688\n",
            "Epoch 38/100\n",
            "25/25 [==============================] - 0s 5ms/step - loss: 313281.2500 - root_mean_squared_error: 337790.8750 - val_loss: 273465.8750 - val_root_mean_squared_error: 300013.9688\n",
            "Epoch 39/100\n",
            "25/25 [==============================] - 0s 7ms/step - loss: 313281.1875 - root_mean_squared_error: 337790.8438 - val_loss: 273465.8438 - val_root_mean_squared_error: 300013.9375\n",
            "Epoch 40/100\n",
            "25/25 [==============================] - 0s 6ms/step - loss: 313281.1562 - root_mean_squared_error: 337790.8125 - val_loss: 273465.8438 - val_root_mean_squared_error: 300013.9062\n",
            "Epoch 41/100\n",
            "25/25 [==============================] - 0s 5ms/step - loss: 313281.1875 - root_mean_squared_error: 337790.8125 - val_loss: 273465.7812 - val_root_mean_squared_error: 300013.9062\n",
            "Epoch 42/100\n",
            "25/25 [==============================] - 0s 5ms/step - loss: 313281.1562 - root_mean_squared_error: 337790.7812 - val_loss: 273465.7812 - val_root_mean_squared_error: 300013.8438\n",
            "Epoch 43/100\n",
            "25/25 [==============================] - 0s 6ms/step - loss: 313281.0938 - root_mean_squared_error: 337790.7500 - val_loss: 273465.7500 - val_root_mean_squared_error: 300013.8438\n",
            "Epoch 44/100\n",
            "25/25 [==============================] - 0s 7ms/step - loss: 313281.0938 - root_mean_squared_error: 337790.7500 - val_loss: 273465.7188 - val_root_mean_squared_error: 300013.8438\n",
            "Epoch 45/100\n",
            "25/25 [==============================] - 0s 6ms/step - loss: 313281.0938 - root_mean_squared_error: 337790.7188 - val_loss: 273465.7188 - val_root_mean_squared_error: 300013.7812\n",
            "Epoch 46/100\n",
            "25/25 [==============================] - 0s 8ms/step - loss: 313281.0312 - root_mean_squared_error: 337790.6875 - val_loss: 273465.6875 - val_root_mean_squared_error: 300013.7812\n",
            "Epoch 47/100\n",
            "25/25 [==============================] - 0s 9ms/step - loss: 313281.0000 - root_mean_squared_error: 337790.6562 - val_loss: 273465.6562 - val_root_mean_squared_error: 300013.7500\n",
            "Epoch 48/100\n",
            "25/25 [==============================] - 0s 5ms/step - loss: 313280.9688 - root_mean_squared_error: 337790.6562 - val_loss: 273465.6250 - val_root_mean_squared_error: 300013.7188\n",
            "Epoch 49/100\n",
            "25/25 [==============================] - 0s 5ms/step - loss: 313280.9062 - root_mean_squared_error: 337790.5938 - val_loss: 273465.5938 - val_root_mean_squared_error: 300013.7188\n",
            "Epoch 50/100\n",
            "25/25 [==============================] - 0s 6ms/step - loss: 313280.9688 - root_mean_squared_error: 337790.5938 - val_loss: 273465.5938 - val_root_mean_squared_error: 300013.6875\n",
            "Epoch 51/100\n",
            "25/25 [==============================] - 0s 6ms/step - loss: 313280.9062 - root_mean_squared_error: 337790.5625 - val_loss: 273465.5625 - val_root_mean_squared_error: 300013.6562\n",
            "Epoch 52/100\n",
            "25/25 [==============================] - 0s 10ms/step - loss: 313280.8750 - root_mean_squared_error: 337790.5625 - val_loss: 273465.5312 - val_root_mean_squared_error: 300013.6250\n",
            "Epoch 53/100\n",
            "25/25 [==============================] - 0s 7ms/step - loss: 313280.8750 - root_mean_squared_error: 337790.5312 - val_loss: 273465.5312 - val_root_mean_squared_error: 300013.6250\n",
            "Epoch 54/100\n",
            "25/25 [==============================] - 0s 8ms/step - loss: 313280.8438 - root_mean_squared_error: 337790.5312 - val_loss: 273465.4688 - val_root_mean_squared_error: 300013.5938\n",
            "Epoch 55/100\n",
            "25/25 [==============================] - 0s 5ms/step - loss: 313280.8125 - root_mean_squared_error: 337790.5000 - val_loss: 273465.4688 - val_root_mean_squared_error: 300013.5625\n",
            "Epoch 56/100\n",
            "25/25 [==============================] - 0s 5ms/step - loss: 313280.7812 - root_mean_squared_error: 337790.4375 - val_loss: 273465.4375 - val_root_mean_squared_error: 300013.5312\n",
            "Epoch 57/100\n",
            "25/25 [==============================] - 0s 6ms/step - loss: 313280.7812 - root_mean_squared_error: 337790.4688 - val_loss: 273465.4062 - val_root_mean_squared_error: 300013.5312\n",
            "Epoch 58/100\n",
            "25/25 [==============================] - 0s 6ms/step - loss: 313280.7500 - root_mean_squared_error: 337790.4375 - val_loss: 273465.3750 - val_root_mean_squared_error: 300013.5000\n",
            "Epoch 59/100\n",
            "25/25 [==============================] - 0s 10ms/step - loss: 313280.7188 - root_mean_squared_error: 337790.3750 - val_loss: 273465.3750 - val_root_mean_squared_error: 300013.4688\n",
            "Epoch 60/100\n",
            "25/25 [==============================] - 0s 8ms/step - loss: 313280.6562 - root_mean_squared_error: 337790.3750 - val_loss: 273465.3438 - val_root_mean_squared_error: 300013.4688\n",
            "Epoch 61/100\n",
            "25/25 [==============================] - 0s 5ms/step - loss: 313280.6875 - root_mean_squared_error: 337790.3125 - val_loss: 273465.3125 - val_root_mean_squared_error: 300013.4375\n",
            "Epoch 62/100\n",
            "25/25 [==============================] - 0s 6ms/step - loss: 313280.6250 - root_mean_squared_error: 337790.3125 - val_loss: 273465.2812 - val_root_mean_squared_error: 300013.4062\n",
            "Epoch 63/100\n",
            "25/25 [==============================] - 0s 6ms/step - loss: 313280.6250 - root_mean_squared_error: 337790.3125 - val_loss: 273465.2500 - val_root_mean_squared_error: 300013.4062\n",
            "Epoch 64/100\n",
            "25/25 [==============================] - 0s 6ms/step - loss: 313280.6250 - root_mean_squared_error: 337790.2812 - val_loss: 273465.2188 - val_root_mean_squared_error: 300013.3438\n",
            "Epoch 65/100\n",
            "25/25 [==============================] - 0s 14ms/step - loss: 313280.5625 - root_mean_squared_error: 337790.2500 - val_loss: 273465.1875 - val_root_mean_squared_error: 300013.3438\n",
            "Epoch 66/100\n",
            "25/25 [==============================] - 0s 5ms/step - loss: 313280.5312 - root_mean_squared_error: 337790.2500 - val_loss: 273465.1875 - val_root_mean_squared_error: 300013.3125\n",
            "Epoch 67/100\n",
            "25/25 [==============================] - 0s 6ms/step - loss: 313280.5000 - root_mean_squared_error: 337790.1875 - val_loss: 273465.1562 - val_root_mean_squared_error: 300013.2812\n",
            "Epoch 68/100\n",
            "25/25 [==============================] - 0s 5ms/step - loss: 313280.4688 - root_mean_squared_error: 337790.1875 - val_loss: 273465.1250 - val_root_mean_squared_error: 300013.2812\n",
            "Epoch 69/100\n",
            "25/25 [==============================] - 0s 6ms/step - loss: 313280.5000 - root_mean_squared_error: 337790.1875 - val_loss: 273465.0938 - val_root_mean_squared_error: 300013.2500\n",
            "Epoch 70/100\n",
            "25/25 [==============================] - 0s 8ms/step - loss: 313280.4375 - root_mean_squared_error: 337790.1562 - val_loss: 273465.0938 - val_root_mean_squared_error: 300013.2188\n",
            "Epoch 71/100\n",
            "25/25 [==============================] - 0s 5ms/step - loss: 313280.4062 - root_mean_squared_error: 337790.1250 - val_loss: 273465.0625 - val_root_mean_squared_error: 300013.2188\n",
            "Epoch 72/100\n",
            "25/25 [==============================] - 0s 8ms/step - loss: 313280.3750 - root_mean_squared_error: 337790.0938 - val_loss: 273465.0312 - val_root_mean_squared_error: 300013.1875\n",
            "Epoch 73/100\n",
            "25/25 [==============================] - 0s 5ms/step - loss: 313280.3125 - root_mean_squared_error: 337790.0625 - val_loss: 273465.0312 - val_root_mean_squared_error: 300013.1562\n",
            "Epoch 74/100\n",
            "25/25 [==============================] - 0s 5ms/step - loss: 313280.3750 - root_mean_squared_error: 337790.0312 - val_loss: 273464.9688 - val_root_mean_squared_error: 300013.1250\n",
            "Epoch 75/100\n",
            "25/25 [==============================] - 0s 6ms/step - loss: 313280.2500 - root_mean_squared_error: 337790.0625 - val_loss: 273464.9688 - val_root_mean_squared_error: 300013.0938\n",
            "Epoch 76/100\n",
            "25/25 [==============================] - 0s 8ms/step - loss: 313280.2500 - root_mean_squared_error: 337790.0312 - val_loss: 273464.9375 - val_root_mean_squared_error: 300013.0938\n",
            "Epoch 77/100\n",
            "25/25 [==============================] - 0s 8ms/step - loss: 313280.2500 - root_mean_squared_error: 337789.9688 - val_loss: 273464.9062 - val_root_mean_squared_error: 300013.0625\n",
            "Epoch 78/100\n",
            "25/25 [==============================] - 0s 5ms/step - loss: 313280.2188 - root_mean_squared_error: 337789.9688 - val_loss: 273464.9062 - val_root_mean_squared_error: 300013.0312\n",
            "Epoch 79/100\n",
            "25/25 [==============================] - 0s 5ms/step - loss: 313280.2188 - root_mean_squared_error: 337789.9375 - val_loss: 273464.8438 - val_root_mean_squared_error: 300013.0312\n",
            "Epoch 80/100\n",
            "25/25 [==============================] - 0s 5ms/step - loss: 313280.1875 - root_mean_squared_error: 337789.8750 - val_loss: 273464.8125 - val_root_mean_squared_error: 300012.9688\n",
            "Epoch 81/100\n",
            "25/25 [==============================] - 0s 7ms/step - loss: 313280.1562 - root_mean_squared_error: 337789.8750 - val_loss: 273464.8125 - val_root_mean_squared_error: 300012.9688\n",
            "Epoch 82/100\n",
            "25/25 [==============================] - 0s 6ms/step - loss: 313280.1875 - root_mean_squared_error: 337789.8750 - val_loss: 273464.7812 - val_root_mean_squared_error: 300012.9688\n",
            "Epoch 83/100\n",
            "25/25 [==============================] - 0s 13ms/step - loss: 313280.1250 - root_mean_squared_error: 337789.8438 - val_loss: 273464.7500 - val_root_mean_squared_error: 300012.9375\n",
            "Epoch 84/100\n",
            "25/25 [==============================] - 0s 11ms/step - loss: 313280.0312 - root_mean_squared_error: 337789.8125 - val_loss: 273464.7188 - val_root_mean_squared_error: 300012.9062\n",
            "Epoch 85/100\n",
            "25/25 [==============================] - 0s 17ms/step - loss: 313280.0312 - root_mean_squared_error: 337789.8125 - val_loss: 273464.7188 - val_root_mean_squared_error: 300012.8750\n",
            "Epoch 86/100\n",
            "25/25 [==============================] - 0s 13ms/step - loss: 313280.0625 - root_mean_squared_error: 337789.7812 - val_loss: 273464.6875 - val_root_mean_squared_error: 300012.8750\n",
            "Epoch 87/100\n",
            "25/25 [==============================] - 0s 18ms/step - loss: 313280.0312 - root_mean_squared_error: 337789.7500 - val_loss: 273464.6562 - val_root_mean_squared_error: 300012.8438\n",
            "Epoch 88/100\n",
            "25/25 [==============================] - 1s 23ms/step - loss: 313279.9688 - root_mean_squared_error: 337789.7500 - val_loss: 273464.6250 - val_root_mean_squared_error: 300012.8438\n",
            "Epoch 89/100\n",
            "25/25 [==============================] - 0s 14ms/step - loss: 313279.9688 - root_mean_squared_error: 337789.6875 - val_loss: 273464.5938 - val_root_mean_squared_error: 300012.8125\n",
            "Epoch 90/100\n",
            "25/25 [==============================] - 0s 11ms/step - loss: 313279.9375 - root_mean_squared_error: 337789.6562 - val_loss: 273464.5938 - val_root_mean_squared_error: 300012.7812\n",
            "Epoch 91/100\n",
            "25/25 [==============================] - 0s 14ms/step - loss: 313279.9375 - root_mean_squared_error: 337789.6562 - val_loss: 273464.5625 - val_root_mean_squared_error: 300012.7500\n",
            "Epoch 92/100\n",
            "25/25 [==============================] - 0s 14ms/step - loss: 313279.9062 - root_mean_squared_error: 337789.6562 - val_loss: 273464.5312 - val_root_mean_squared_error: 300012.7188\n",
            "Epoch 93/100\n",
            "25/25 [==============================] - 0s 19ms/step - loss: 313279.8750 - root_mean_squared_error: 337789.5938 - val_loss: 273464.5312 - val_root_mean_squared_error: 300012.6875\n",
            "Epoch 94/100\n",
            "25/25 [==============================] - 0s 11ms/step - loss: 313279.8750 - root_mean_squared_error: 337789.5625 - val_loss: 273464.4688 - val_root_mean_squared_error: 300012.6562\n",
            "Epoch 95/100\n",
            "25/25 [==============================] - 0s 17ms/step - loss: 313279.8125 - root_mean_squared_error: 337789.5625 - val_loss: 273464.4688 - val_root_mean_squared_error: 300012.6562\n",
            "Epoch 96/100\n",
            "25/25 [==============================] - 0s 14ms/step - loss: 313279.7500 - root_mean_squared_error: 337789.5312 - val_loss: 273464.4375 - val_root_mean_squared_error: 300012.6250\n",
            "Epoch 97/100\n",
            "25/25 [==============================] - 0s 10ms/step - loss: 313279.7500 - root_mean_squared_error: 337789.5000 - val_loss: 273464.4062 - val_root_mean_squared_error: 300012.5938\n",
            "Epoch 98/100\n",
            "25/25 [==============================] - 0s 11ms/step - loss: 313279.7500 - root_mean_squared_error: 337789.5000 - val_loss: 273464.4062 - val_root_mean_squared_error: 300012.5938\n",
            "Epoch 99/100\n",
            "25/25 [==============================] - 0s 7ms/step - loss: 313279.7188 - root_mean_squared_error: 337789.4375 - val_loss: 273464.3750 - val_root_mean_squared_error: 300012.5625\n",
            "Epoch 100/100\n",
            "25/25 [==============================] - 0s 7ms/step - loss: 313279.6562 - root_mean_squared_error: 337789.4375 - val_loss: 273464.3438 - val_root_mean_squared_error: 300012.5312\n"
          ]
        },
        {
          "output_type": "execute_result",
          "data": {
            "text/plain": [
              "<keras.src.callbacks.History at 0x7d50c45db400>"
            ]
          },
          "metadata": {},
          "execution_count": 151
        }
      ]
    },
    {
      "cell_type": "code",
      "source": [
        "# prompt: plot the loss agains epochs using plot lib\n",
        "\n",
        "history = model.history.history\n",
        "loss = history['loss']\n",
        "val_loss = history['val_loss']\n",
        "\n",
        "plt.plot(loss)\n",
        "plt.plot(val_loss)\n",
        "\n",
        "plt.xlabel('Epochs')\n",
        "\n",
        "plt.ylabel('Loss')\n",
        "\n",
        "plt.title('Training loss plot')\n",
        "\n",
        "plt.legend([\"training_loss\", \"val_loss\"])\n",
        "\n",
        "plt.show()\n"
      ],
      "metadata": {
        "colab": {
          "base_uri": "https://localhost:8080/",
          "height": 472
        },
        "id": "HtjmLR45e9u-",
        "outputId": "e28b2280-b292-45c6-b946-47ed023e6836"
      },
      "execution_count": 152,
      "outputs": [
        {
          "output_type": "display_data",
          "data": {
            "text/plain": [
              "<Figure size 640x480 with 1 Axes>"
            ],
            "image/png": "[encoded data removed]"
          },
          "metadata": {}
        }
      ]
    },
    {
      "cell_type": "code",
      "source": [
        "# prompt: plot the loss agains epochs using plot lib\n",
        "\n",
        "history = model.history.history\n",
        "\n",
        "rmse = history['root_mean_squared_error']\n",
        "rmse_val = history['val_root_mean_squared_error']\n",
        "\n",
        "plt.plot(rmse)\n",
        "plt.plot(rmse_val)\n",
        "\n",
        "plt.xlabel('Epochs')\n",
        "\n",
        "plt.ylabel('rmse')\n",
        "\n",
        "plt.title('Training rmse plot')\n",
        "\n",
        "plt.legend()\n",
        "\n",
        "plt.show()\n"
      ],
      "metadata": {
        "colab": {
          "base_uri": "https://localhost:8080/",
          "height": 490
        },
        "id": "_hTizTNSfi5n",
        "outputId": "6ab8c7e1-b373-4410-ec38-06ce1741b048"
      },
      "execution_count": 153,
      "outputs": [
        {
          "output_type": "stream",
          "name": "stderr",
          "text": [
            "WARNING:matplotlib.legend:No artists with labels found to put in legend.  Note that artists whose label start with an underscore are ignored when legend() is called with no argument.\n"
          ]
        },
        {
          "output_type": "display_data",
          "data": {
            "text/plain": [
              "<Figure size 640x480 with 1 Axes>"
            ],
            "image/png": "[encoded data removed]"
          },
          "metadata": {}
        }
      ]
    },
    {
      "cell_type": "code",
      "source": [
        "model.evaluate(x, y)\n",
        "# 5:54"
      ],
      "metadata": {
        "colab": {
          "base_uri": "https://localhost:8080/"
        },
        "id": "TgskO8I5j03J",
        "outputId": "21b4c363-eed6-4d7e-ce4a-70d5c46d0abb"
      },
      "execution_count": 154,
      "outputs": [
        {
          "output_type": "stream",
          "name": "stdout",
          "text": [
            "32/32 [==============================] - 0s 3ms/step - loss: 308517.6875 - root_mean_squared_error: 333259.5312\n"
          ]
        },
        {
          "output_type": "execute_result",
          "data": {
            "text/plain": [
              "[308517.6875, 333259.53125]"
            ]
          },
          "metadata": {},
          "execution_count": 154
        }
      ]
    },
    {
      "cell_type": "code",
      "source": [],
      "metadata": {
        "id": "i00YVErr5dym"
      },
      "execution_count": 154,
      "outputs": []
    },
    {
      "cell_type": "code",
      "source": [
        "X_test[0].shape"
      ],
      "metadata": {
        "id": "5qfs5UfG6P50",
        "colab": {
          "base_uri": "https://localhost:8080/"
        },
        "outputId": "49049151-5d59-4e79-d5fd-f23a031b1129"
      },
      "execution_count": 155,
      "outputs": [
        {
          "output_type": "execute_result",
          "data": {
            "text/plain": [
              "TensorShape([8])"
            ]
          },
          "metadata": {},
          "execution_count": 155
        }
      ]
    },
    {
      "cell_type": "code",
      "source": [
        "model.predict(tf.expand_dims(X_test[0], axis=0))"
      ],
      "metadata": {
        "id": "MNn9VUyl600g",
        "colab": {
          "base_uri": "https://localhost:8080/"
        },
        "outputId": "a503f784-26c8-4f36-cf3f-a0e3d5e93625"
      },
      "execution_count": 156,
      "outputs": [
        {
          "output_type": "stream",
          "name": "stdout",
          "text": [
            "1/1 [==============================] - 0s 47ms/step\n"
          ]
        },
        {
          "output_type": "execute_result",
          "data": {
            "text/plain": [
              "array([[2.3670292]], dtype=float32)"
            ]
          },
          "metadata": {},
          "execution_count": 156
        }
      ]
    },
    {
      "cell_type": "code",
      "source": [
        "Y_test[0]\n"
      ],
      "metadata": {
        "id": "CazkKpJO69Dr",
        "colab": {
          "base_uri": "https://localhost:8080/"
        },
        "outputId": "b332c2e8-fd50-4874-bea7-6e14644d9658"
      },
      "execution_count": 157,
      "outputs": [
        {
          "output_type": "execute_result",
          "data": {
            "text/plain": [
              "<tf.Tensor: shape=(1,), dtype=float32, numpy=array([191566.], dtype=float32)>"
            ]
          },
          "metadata": {},
          "execution_count": 157
        }
      ]
    },
    {
      "cell_type": "code",
      "source": [
        "y_true = list(Y_test[:, 0].numpy())\n",
        "y_pred = list(model.predict(X_test)[:, 0])\n",
        "\n",
        "ind = np.arange(100)\n",
        "\n",
        "plt.figure(figsize=(40, 20))\n",
        "\n",
        "width = 0.2\n",
        "\n",
        "plt.bar(ind, y_pred, width, label='Predicted')\n",
        "plt.bar(ind + width, y_true, width, label='True')\n",
        "\n",
        "plt.legend()\n",
        "plt.show()\n",
        "# 6:11"
      ],
      "metadata": {
        "colab": {
          "base_uri": "https://localhost:8080/",
          "height": 901
        },
        "id": "HnmxrM6Xlh8o",
        "outputId": "0bfc40de-8983-4821-b55f-cca234d61f63"
      },
      "execution_count": 165,
      "outputs": [
        {
          "output_type": "stream",
          "name": "stdout",
          "text": [
            "4/4 [==============================] - 0s 4ms/step\n"
          ]
        },
        {
          "output_type": "display_data",
          "data": {
            "text/plain": [
              "<Figure size 4000x2000 with 1 Axes>"
            ],
            "image/png": "[encoded data removed]"
          },
          "metadata": {}
        }
      ]
    },
    {
      "cell_type": "code",
      "source": [],
      "metadata": {
        "id": "k3SEiBYjlqsD"
      },
      "execution_count": null,
      "outputs": []
    }
  ]
}